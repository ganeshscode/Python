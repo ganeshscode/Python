{
 "cells": [
  {
   "cell_type": "markdown",
   "id": "becc5e4e-c848-417a-9ee2-14d60fff85e5",
   "metadata": {},
   "source": [
    "# Dictionaries\n",
    "\n",
    "We've been learning about *sequences* in Python but now we're going to switch gears and learn about *mappings* in Python. If you're familiar with other languages you can think of these Dictionaries as hash tables. \n",
    "\n",
    "This section will serve as a brief introduction to dictionaries and consist of:\n",
    "1.) Constructing a Dictionary\n",
    "    2.) Accessing objects from a dictionary\n",
    "    3.) Nesting Dictionaries\n",
    "    4.) Basic Dictionary Methods\n",
    "\n",
    "So what are mappings? Mappings are a collection of objects that are stored by a *key*, unlike a sequence that stored objects by their relative position. This is an important distinction, since mappings won't retain order since they have objects defined by a key.\n",
    "A Python dictionary consists of a key and then an associated value. That value can be almost any Python object.\n",
    "\n",
    "\n",
    "## Constructing a Dictionary\n",
    "Let's see how we can construct dictionaries to get a better understanding of how they work!"
   ]
  },
  {
   "cell_type": "code",
   "execution_count": 36,
   "id": "77e458b1-4337-4143-b4dd-d24151f7b332",
   "metadata": {},
   "outputs": [],
   "source": [
    "# Make a dictionary with {} and : to signify a key and a value\n",
    "my_dict = {'key1':'value1','key2':'value2'}"
   ]
  },
  {
   "cell_type": "markdown",
   "id": "5ab696e9-b727-4e94-b996-82be5ef10635",
   "metadata": {},
   "source": [
    "### Everything in dictionary is key only\n"
   ]
  },
  {
   "cell_type": "code",
   "execution_count": 37,
   "id": "df18f793-764e-4a95-af2e-e94dd376146f",
   "metadata": {},
   "outputs": [
    {
     "data": {
      "text/plain": [
       "'value2'"
      ]
     },
     "execution_count": 37,
     "metadata": {},
     "output_type": "execute_result"
    }
   ],
   "source": [
    "# Call values by their key\n",
    "my_dict['key2']"
   ]
  },
  {
   "cell_type": "markdown",
   "id": "d62fb55b-3a77-4165-8b66-db4968d90fd5",
   "metadata": {},
   "source": [
    "It is important to note that dictionaries are very flexible in the data types they can hold.\n",
    "for example:"
   ]
  },
  {
   "cell_type": "code",
   "execution_count": 38,
   "id": "c284533f-5fe9-494e-87ca-da676d207e1d",
   "metadata": {},
   "outputs": [],
   "source": [
    "my_dict = {'key1':[12,18],'key2':[12,23,33], 'key3':['item0','item1','item2']}"
   ]
  },
  {
   "cell_type": "code",
   "execution_count": 39,
   "id": "4bebb1eb-a76c-4363-b3bf-1206accdf0c6",
   "metadata": {},
   "outputs": [],
   "source": [
    "student_info = {'student_name':['madhuri','ganesh','alok'],'roll_num':[1,2,3]}"
   ]
  },
  {
   "cell_type": "code",
   "execution_count": 40,
   "id": "e5e21a52-b651-4136-a452-08bf64e37ead",
   "metadata": {},
   "outputs": [
    {
     "name": "stdout",
     "output_type": "stream",
     "text": [
      "[1, 2, 3]\n"
     ]
    }
   ],
   "source": [
    "# let's call items from the dictionary\n",
    "#my_dict['key3']\n",
    "print(student_info['roll_num'])"
   ]
  },
  {
   "cell_type": "code",
   "execution_count": 41,
   "id": "6bbbd2fa-2259-4146-b116-bab9bd33b41f",
   "metadata": {},
   "outputs": [
    {
     "data": {
      "text/plain": [
       "'madhuri'"
      ]
     },
     "execution_count": 41,
     "metadata": {},
     "output_type": "execute_result"
    }
   ],
   "source": [
    "student_info['student_name'][0]"
   ]
  },
  {
   "cell_type": "code",
   "execution_count": 42,
   "id": "4711174e-bd63-4f81-b20b-46eed0dcdb9c",
   "metadata": {},
   "outputs": [
    {
     "data": {
      "text/plain": [
       "'ganesh'"
      ]
     },
     "execution_count": 42,
     "metadata": {},
     "output_type": "execute_result"
    }
   ],
   "source": [
    "student_info['student_name'][1]"
   ]
  },
  {
   "cell_type": "code",
   "execution_count": 43,
   "id": "776f8471-a364-41eb-81f0-33fc981ace3f",
   "metadata": {},
   "outputs": [
    {
     "data": {
      "text/plain": [
       "'item0'"
      ]
     },
     "execution_count": 43,
     "metadata": {},
     "output_type": "execute_result"
    }
   ],
   "source": [
    "# can call on index on that value\n",
    "my_dict['key3'][0]"
   ]
  },
  {
   "cell_type": "code",
   "execution_count": 44,
   "id": "2617633b-efae-4633-9534-9ccdc27da552",
   "metadata": {},
   "outputs": [],
   "source": [
    "# Can then even methods on that value\n",
    "my_dict['key3'].append('item4')\n",
    "student_info ['student_name'].append('ahmad')"
   ]
  },
  {
   "cell_type": "code",
   "execution_count": 46,
   "id": "f8909de4-6586-425e-b096-adef1a2d7d86",
   "metadata": {},
   "outputs": [
    {
     "data": {
      "text/plain": [
       "{'key1': [12, 18],\n",
       " 'key2': [12, 23, 33],\n",
       " 'key3': ['item0', 'item1', 'item2', 'item4']}"
      ]
     },
     "execution_count": 46,
     "metadata": {},
     "output_type": "execute_result"
    }
   ],
   "source": [
    "my_dict"
   ]
  },
  {
   "cell_type": "code",
   "execution_count": 47,
   "id": "2c999308-da22-40a6-8f88-d682647ecafd",
   "metadata": {},
   "outputs": [
    {
     "data": {
      "text/plain": [
       "{'student_name': ['madhuri', 'ganesh', 'alok', 'ahmad'], 'roll_num': [1, 2, 3]}"
      ]
     },
     "execution_count": 47,
     "metadata": {},
     "output_type": "execute_result"
    }
   ],
   "source": [
    "student_info"
   ]
  },
  {
   "cell_type": "code",
   "execution_count": 48,
   "id": "5275f565-b98b-470c-b2b7-5c30c0d8730d",
   "metadata": {},
   "outputs": [],
   "source": [
    "student_info['roll_num'] = 500"
   ]
  },
  {
   "cell_type": "code",
   "execution_count": 49,
   "id": "0deabecb-e1fa-447b-9bf2-934ea784e929",
   "metadata": {},
   "outputs": [
    {
     "data": {
      "text/plain": [
       "{'student_name': ['madhuri', 'ganesh', 'alok', 'ahmad'], 'roll_num': 500}"
      ]
     },
     "execution_count": 49,
     "metadata": {},
     "output_type": "execute_result"
    }
   ],
   "source": [
    "student_info"
   ]
  },
  {
   "cell_type": "markdown",
   "id": "12e7bd51-5cb8-4ffb-9496-2843a83c5a75",
   "metadata": {},
   "source": [
    "We can also create keys by assignment. For instance if we started off with an empty dictionary, we could continually add to it:"
   ]
  },
  {
   "cell_type": "code",
   "execution_count": 50,
   "id": "04a078fd-9bd4-4a14-8592-ac5321866c2b",
   "metadata": {},
   "outputs": [],
   "source": [
    "student_info['Division'] = ['A','B','C','D']"
   ]
  },
  {
   "cell_type": "code",
   "execution_count": 51,
   "id": "36e840e8-f617-4c27-8e05-499d6470875e",
   "metadata": {},
   "outputs": [
    {
     "data": {
      "text/plain": [
       "['madhuri', 'ganesh', 'alok', 'ahmad']"
      ]
     },
     "execution_count": 51,
     "metadata": {},
     "output_type": "execute_result"
    }
   ],
   "source": [
    "student_info ['student_name']"
   ]
  },
  {
   "cell_type": "code",
   "execution_count": 52,
   "id": "315e3738-bbe1-4b45-b4ad-1150a357d284",
   "metadata": {},
   "outputs": [],
   "source": [
    "# Create a new dictionary\n",
    "d = {}\n",
    "# dic ['key'] = value"
   ]
  },
  {
   "cell_type": "code",
   "execution_count": 53,
   "id": "3a8d2832-9e94-45e6-8852-a0aac5c88b04",
   "metadata": {},
   "outputs": [
    {
     "data": {
      "text/plain": [
       "{}"
      ]
     },
     "execution_count": 53,
     "metadata": {},
     "output_type": "execute_result"
    }
   ],
   "source": [
    "d"
   ]
  },
  {
   "cell_type": "code",
   "execution_count": 56,
   "id": "209ef481-a8ca-49b1-8ef1-9778842aa74e",
   "metadata": {},
   "outputs": [],
   "source": [
    "# Create a new key through assignment\n",
    "student_info['animal'] = ['Dog','Cat']"
   ]
  },
  {
   "cell_type": "code",
   "execution_count": 57,
   "id": "d144bf05-cd28-4141-ab54-0848c7ee9a5a",
   "metadata": {},
   "outputs": [
    {
     "data": {
      "text/plain": [
       "{'student_name': ['madhuri', 'ganesh', 'alok', 'ahmad'],\n",
       " 'roll_num': 500,\n",
       " 'Division': ['A', 'B', 'C', 'D'],\n",
       " 'animal': ['Dog', 'Cat']}"
      ]
     },
     "execution_count": 57,
     "metadata": {},
     "output_type": "execute_result"
    }
   ],
   "source": [
    "student_info"
   ]
  },
  {
   "cell_type": "markdown",
   "id": "dc483bcf-72f8-4166-8ee2-a6fbb7c0714b",
   "metadata": {},
   "source": [
    "## Nesting with Dictionaries\n",
    "\n",
    "Hopefully you're starting to see how powerful Python is with its flexibility of nesting objects and calling methods on them. Let's see a dictionary nested inside a dictionary:"
   ]
  },
  {
   "cell_type": "code",
   "execution_count": 58,
   "id": "8512b6fd-13c3-4680-a7cd-38300d5c6312",
   "metadata": {},
   "outputs": [
    {
     "data": {
      "text/plain": [
       "{'key1': {'nestkey': {'subnestkey': 'value'}}}"
      ]
     },
     "execution_count": 58,
     "metadata": {},
     "output_type": "execute_result"
    }
   ],
   "source": [
    "# Dictionary nested inside a dictionary\n",
    "d = {'key1':{'nestkey':{'subnestkey':'value'}}}\n",
    "d"
   ]
  },
  {
   "cell_type": "code",
   "execution_count": 21,
   "id": "6dc6c751-42d0-45c5-9d9c-97e1d73699ed",
   "metadata": {},
   "outputs": [
    {
     "data": {
      "text/plain": [
       "{'nestkey': {'subnestkey': 'value'}}"
      ]
     },
     "execution_count": 21,
     "metadata": {},
     "output_type": "execute_result"
    }
   ],
   "source": [
    "d['key1']"
   ]
  },
  {
   "cell_type": "code",
   "execution_count": 22,
   "id": "558ecd98-b4c3-4df9-8044-d0291b8caaee",
   "metadata": {},
   "outputs": [
    {
     "ename": "KeyError",
     "evalue": "'nestkey'",
     "output_type": "error",
     "traceback": [
      "\u001b[1;31m---------------------------------------------------------------------------\u001b[0m",
      "\u001b[1;31mKeyError\u001b[0m                                  Traceback (most recent call last)",
      "\u001b[1;32m<ipython-input-22-af2062868189>\u001b[0m in \u001b[0;36m<module>\u001b[1;34m\u001b[0m\n\u001b[1;32m----> 1\u001b[1;33m \u001b[0md\u001b[0m\u001b[1;33m[\u001b[0m\u001b[1;34m'nestkey'\u001b[0m\u001b[1;33m]\u001b[0m\u001b[1;33m\u001b[0m\u001b[1;33m\u001b[0m\u001b[0m\n\u001b[0m",
      "\u001b[1;31mKeyError\u001b[0m: 'nestkey'"
     ]
    }
   ],
   "source": [
    "d['nestkey']"
   ]
  },
  {
   "cell_type": "code",
   "execution_count": 59,
   "id": "e1bf9154-7727-4493-8c35-4407bbf735d1",
   "metadata": {},
   "outputs": [
    {
     "data": {
      "text/plain": [
       "'value'"
      ]
     },
     "execution_count": 59,
     "metadata": {},
     "output_type": "execute_result"
    }
   ],
   "source": [
    "# Keep calling the keys\n",
    "d['key1']['nestkey']['subnestkey']\n",
    "                                "
   ]
  },
  {
   "cell_type": "markdown",
   "id": "c8bb9d00-3eeb-44bd-9910-f473b9b6c135",
   "metadata": {},
   "source": [
    "## A few Dictionary Methods\n",
    "\n",
    "There are a few methods we can call on a dictionary. Let's get a quick introduction to a few of them:"
   ]
  },
  {
   "cell_type": "code",
   "execution_count": 60,
   "id": "c22fdb03-f4af-416a-a10a-ade089099293",
   "metadata": {},
   "outputs": [],
   "source": [
    "d = {'key1':1, 'key2':2,'key3':3}"
   ]
  },
  {
   "cell_type": "code",
   "execution_count": 61,
   "id": "636618d7-e3d6-41c2-94c2-9841d1ae5651",
   "metadata": {},
   "outputs": [
    {
     "data": {
      "text/plain": [
       "dict_keys(['key1', 'key2', 'key3'])"
      ]
     },
     "execution_count": 61,
     "metadata": {},
     "output_type": "execute_result"
    }
   ],
   "source": [
    "# Method to return a list of all keys\n",
    "d.keys()"
   ]
  },
  {
   "cell_type": "code",
   "execution_count": 62,
   "id": "ee972927-c1e0-4c10-8675-a3ab06a5a417",
   "metadata": {},
   "outputs": [
    {
     "data": {
      "text/plain": [
       "dict_values([1, 2, 3])"
      ]
     },
     "execution_count": 62,
     "metadata": {},
     "output_type": "execute_result"
    }
   ],
   "source": [
    "# Method to grab all values\n",
    "d.values()"
   ]
  },
  {
   "cell_type": "code",
   "execution_count": 63,
   "id": "9f233b63-78d6-42d4-8a7d-1b1b016ff6ed",
   "metadata": {},
   "outputs": [
    {
     "data": {
      "text/plain": [
       "dict_values([['madhuri', 'ganesh', 'alok', 'ahmad'], 500, ['A', 'B', 'C', 'D'], ['Dog', 'Cat']])"
      ]
     },
     "execution_count": 63,
     "metadata": {},
     "output_type": "execute_result"
    }
   ],
   "source": [
    "student_info.values()"
   ]
  },
  {
   "cell_type": "code",
   "execution_count": 64,
   "id": "4eb9b0b4-001e-4bc6-9ffc-b8974df39bcd",
   "metadata": {},
   "outputs": [
    {
     "data": {
      "text/plain": [
       "dict_items([('key1', 1), ('key2', 2), ('key3', 3)])"
      ]
     },
     "execution_count": 64,
     "metadata": {},
     "output_type": "execute_result"
    }
   ],
   "source": [
    "# Method to return tuples of all items ( we'll learn about tuples soon)\n",
    "d.items()"
   ]
  },
  {
   "cell_type": "markdown",
   "id": "d0d9f167-5d46-47b1-94be-594a7c4a1889",
   "metadata": {},
   "source": [
    "Hopefully you now have a good basic understanding how to construct dictionaries. There's a lot more to go into here, but we will revisit dictionaries at later time. After this section all you need to know is how to create a dictionary and how to retrieve values from it."
   ]
  },
  {
   "cell_type": "markdown",
   "id": "24e1a7a2-b92b-4d83-9edf-9eb9d40f374a",
   "metadata": {},
   "source": [
    "## Dictionary sorting"
   ]
  },
  {
   "cell_type": "code",
   "execution_count": 65,
   "id": "b62d6c64-e9cc-4cfd-ae1e-673bb8a3299e",
   "metadata": {},
   "outputs": [],
   "source": [
    "g = {9:[8,4,7], 5:[86,3,645,78],2:[2,36,73]}"
   ]
  },
  {
   "cell_type": "code",
   "execution_count": 66,
   "id": "c4ebbb2d-b73e-4155-be98-5f3628facc67",
   "metadata": {},
   "outputs": [
    {
     "data": {
      "text/plain": [
       "{2: [2, 36, 73], 5: [86, 3, 645, 78], 9: [8, 4, 7]}"
      ]
     },
     "execution_count": 66,
     "metadata": {},
     "output_type": "execute_result"
    }
   ],
   "source": [
    "# Ascending order\n",
    "dict(sorted(g.items(),reverse=False))"
   ]
  },
  {
   "cell_type": "code",
   "execution_count": 67,
   "id": "960b10d9-a981-4960-b654-bc52c101df76",
   "metadata": {},
   "outputs": [
    {
     "data": {
      "text/plain": [
       "{9: [8, 4, 7], 5: [86, 3, 645, 78], 2: [2, 36, 73]}"
      ]
     },
     "execution_count": 67,
     "metadata": {},
     "output_type": "execute_result"
    }
   ],
   "source": [
    "# Descending order\n",
    "dict(sorted(g.items(),reverse=True))"
   ]
  },
  {
   "cell_type": "code",
   "execution_count": 68,
   "id": "ca2d5e2f-c126-406e-b82e-d1b48bb02616",
   "metadata": {},
   "outputs": [
    {
     "name": "stdout",
     "output_type": "stream",
     "text": [
      "Dictionary in descending order by value :  {9: [8, 4, 7], 5: [86, 3, 645, 78], 2: [2, 36, 73]}\n"
     ]
    }
   ],
   "source": [
    "sorted_d = dict( sorted(g.items(), reverse=True))\n",
    "print('Dictionary in descending order by value : ',sorted_d)"
   ]
  },
  {
   "cell_type": "code",
   "execution_count": 71,
   "id": "ad29c545-69de-4d3f-89af-24e349f453c3",
   "metadata": {},
   "outputs": [],
   "source": [
    "h = {0: 10, 1: 20}"
   ]
  },
  {
   "cell_type": "code",
   "execution_count": 72,
   "id": "26dea26b-d8c6-4a2d-9bc8-2b6443687610",
   "metadata": {},
   "outputs": [],
   "source": [
    "#{0: 10, 1: 20, 2: 30}"
   ]
  },
  {
   "cell_type": "code",
   "execution_count": 74,
   "id": "7b36da71-ab31-429c-9231-f739a21f43ac",
   "metadata": {},
   "outputs": [
    {
     "data": {
      "text/plain": [
       "10"
      ]
     },
     "execution_count": 74,
     "metadata": {},
     "output_type": "execute_result"
    }
   ],
   "source": [
    "h[0]"
   ]
  },
  {
   "cell_type": "code",
   "execution_count": null,
   "id": "e462c9fe-90ee-4fe3-afb2-38f883b907c5",
   "metadata": {},
   "outputs": [],
   "source": []
  }
 ],
 "metadata": {
  "kernelspec": {
   "display_name": "Python 3",
   "language": "python",
   "name": "python3"
  },
  "language_info": {
   "codemirror_mode": {
    "name": "ipython",
    "version": 3
   },
   "file_extension": ".py",
   "mimetype": "text/x-python",
   "name": "python",
   "nbconvert_exporter": "python",
   "pygments_lexer": "ipython3",
   "version": "3.8.8"
  }
 },
 "nbformat": 4,
 "nbformat_minor": 5
}
