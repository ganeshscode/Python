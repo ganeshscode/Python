{
 "cells": [
  {
   "cell_type": "markdown",
   "id": "f69ae40b-dd1f-44c4-bda9-cca4ab0e53cc",
   "metadata": {},
   "source": [
    "## Python Keywords and Identifiers\n",
    "\n",
    "### Keywords\n",
    "\n",
    "1. Keywords are the reserved words in Python.\n",
    "2. We cannot use a keyword as a variable name, function name or any other identifier.\n",
    "3. They are used to define the syntax and structure of the Python language\n",
    "4. In Python, keywords are case sensitive.\n",
    "5. There are 35 keywords in Python 3.8. This number can vary slightly over the course of time.\n",
    "\n",
    "All the keywords except True, False and None are in lowercase and they must be written as they are. The list of all the keywords is given below.\n"
   ]
  },
  {
   "cell_type": "code",
   "execution_count": 3,
   "id": "72648129-78d2-48b4-af6c-cef49b78bca6",
   "metadata": {},
   "outputs": [
    {
     "name": "stdout",
     "output_type": "stream",
     "text": [
      "['False', 'None', 'True', 'and', 'as', 'assert', 'async', 'await', 'break', 'class', 'continue', 'def', 'del', 'elif', 'else', 'except', 'finally', 'for', 'from', 'global', 'if', 'import', 'in', 'is', 'lambda', 'nonlocal', 'not', 'or', 'pass', 'raise', 'return', 'try', 'while', 'with', 'yield']\n",
      "35\n"
     ]
    }
   ],
   "source": [
    "import keyword\n",
    "print(keyword.kwlist)\n",
    "print(len(keyword.kwlist))"
   ]
  },
  {
   "cell_type": "markdown",
   "id": "60d39671-6f07-47d8-a411-5fd10615193e",
   "metadata": {},
   "source": [
    "# Truth table"
   ]
  },
  {
   "cell_type": "markdown",
   "id": "45b52fe8-35a9-415d-8e1a-c21570787767",
   "metadata": {},
   "source": [
    "### and, or, not are the logical operators in Python. \n",
    "\n",
    "\n",
    "Truth table for and\n",
    "---------------------\n",
    "A    |\tB\t |A and B |\n",
    "-----|-------|--------|\n",
    "True | \tTrue |\tTrue  |\n",
    "True |\tFalse|\tFalse |\n",
    "False|\tTrue |\tFalse |\n",
    "False|\tFalse|\tFalse |\n",
    "\n",
    "and will result into True only if both the operands are True.\n",
    "\n",
    "\n",
    "Truth table for or\n",
    "---------------------\n",
    "A    |\tB\t |A or B |\n",
    "-----|-------|--------|\n",
    "True | \tTrue |\tTrue  |\n",
    "True |\tFalse|\tTrue  |\n",
    "False|\tTrue |\tTrue  |\n",
    "False|\tFalse|\tFalse |"
   ]
  },
  {
   "cell_type": "markdown",
   "id": "6a4983dc-6bbe-4a6e-9673-9800f0932091",
   "metadata": {},
   "source": [
    "For or if any one oprand is true then result will be true."
   ]
  },
  {
   "cell_type": "markdown",
   "id": "dd0bb90c-3b67-4c83-b4ef-d57e5ca0035b",
   "metadata": {},
   "source": [
    "Truth tabel for not\n",
    "-------------------\n",
    "A\t |  not A |\n",
    "-----|--------|\n",
    "True |\tFalse |\n",
    "False|\tTrue  |"
   ]
  },
  {
   "cell_type": "code",
   "execution_count": 5,
   "id": "171fbee6-8972-4635-9d82-da03d397b25f",
   "metadata": {},
   "outputs": [
    {
     "data": {
      "text/plain": [
       "False"
      ]
     },
     "execution_count": 5,
     "metadata": {},
     "output_type": "execute_result"
    }
   ],
   "source": [
    "True and False"
   ]
  },
  {
   "cell_type": "code",
   "execution_count": 6,
   "id": "4ca48fad-7df8-47a8-92a9-c50fec178f0a",
   "metadata": {},
   "outputs": [
    {
     "data": {
      "text/plain": [
       "True"
      ]
     },
     "execution_count": 6,
     "metadata": {},
     "output_type": "execute_result"
    }
   ],
   "source": [
    "True or False"
   ]
  },
  {
   "cell_type": "code",
   "execution_count": 7,
   "id": "9a9261a5-b80c-4256-b707-f5ac4f0ddce4",
   "metadata": {},
   "outputs": [
    {
     "data": {
      "text/plain": [
       "True"
      ]
     },
     "execution_count": 7,
     "metadata": {},
     "output_type": "execute_result"
    }
   ],
   "source": [
    "not False"
   ]
  },
  {
   "cell_type": "code",
   "execution_count": 8,
   "id": "949a7bce-311a-4310-bfbc-794d9e8ba372",
   "metadata": {},
   "outputs": [
    {
     "data": {
      "text/plain": [
       "False"
      ]
     },
     "execution_count": 8,
     "metadata": {},
     "output_type": "execute_result"
    }
   ],
   "source": [
    "not True"
   ]
  },
  {
   "cell_type": "markdown",
   "id": "dddf6a49-e890-4c7a-80ae-8d91dd1b61c7",
   "metadata": {},
   "source": [
    "# Python Identifiers"
   ]
  },
  {
   "cell_type": "markdown",
   "id": "a09812a8-a9f9-41dc-8ee0-6da81307f273",
   "metadata": {},
   "source": [
    "### Identifiers can be a combination of letters in lowercase (a to z) or uppercase (A to Z) or digits (0 to 9) or an underscore _ Names like ...\n",
    "+ myClass, \n",
    "+ var_1 \n",
    "+ print_this_to_screen\n",
    "\n",
    "1. An identifier cannot start with a digit. **1variable** is invalid, but **variable1** is a valid name.\n",
    "2. Keywords cannot be used as identifiers.\n",
    "3. An identifier can be of any length."
   ]
  },
  {
   "cell_type": "markdown",
   "id": "f8f3a1d1-bef8-4e6f-bad4-5d4ddf08f73c",
   "metadata": {},
   "source": [
    "Things to remember"
   ]
  },
  {
   "cell_type": "markdown",
   "id": "ea3e7042-c5d4-400b-a6d4-955093927d2b",
   "metadata": {},
   "source": [
    "Python is a case-sensitive language. This means, **Variable** and **variable** are not the same.\n",
    "\n",
    "Always give the identifiers a name that makes sense. While c = 10 is a valid name, writing count = 10 would make more sense, and it would be easier to figure out what it represents when you look at your code after a long gap.\n",
    "\n",
    "Multiple words can be separated using an underscore, like this_is_a_long_variable."
   ]
  },
  {
   "cell_type": "markdown",
   "id": "423df2ca-9967-4d52-836b-3c44f4b9e599",
   "metadata": {},
   "source": [
    "# Python Statement"
   ]
  },
  {
   "cell_type": "markdown",
   "id": "f42c0e57-8d01-40e2-a9a4-45b6b9d41e1f",
   "metadata": {},
   "source": [
    "Instructions that a Python interpreter can execute are called statements. For example, |a = 1 | is an assignment statement. **if** statement, **for** statement, **while** statement, etc. are other kinds of statements which will be discussed later."
   ]
  },
  {
   "cell_type": "markdown",
   "id": "51766def-59c6-429e-aa67-c8cf52301bf1",
   "metadata": {},
   "source": [
    "# Python Indentation\n",
    "Most of the programming languages like C, C++, and Java use braces { } to define a block of code. Python, however, uses indentation.\n",
    "\n",
    "\n",
    "Generally, four whitespaces are used for indentation and are preferred over tabs.\n",
    "\n",
    "<h4> It's always a good idea to indent. It makes the code more readable. </h4>"
   ]
  },
  {
   "cell_type": "code",
   "execution_count": 11,
   "id": "3d6b7003-1828-4a43-8c3c-d8e39cee2342",
   "metadata": {},
   "outputs": [
    {
     "name": "stdout",
     "output_type": "stream",
     "text": [
      "W\n",
      "o\n",
      "r\n",
      "d\n"
     ]
    }
   ],
   "source": [
    "for i in 'Word':\n",
    "    print(i);"
   ]
  },
  {
   "cell_type": "code",
   "execution_count": 15,
   "id": "44395657-89e3-4303-9ee2-40c257741af7",
   "metadata": {},
   "outputs": [
    {
     "name": "stdout",
     "output_type": "stream",
     "text": [
      "Hello\n"
     ]
    }
   ],
   "source": [
    "if True: print('Hello')"
   ]
  },
  {
   "cell_type": "markdown",
   "id": "a7865af9-347c-4ea8-9cf0-22778420975a",
   "metadata": {},
   "source": [
    "# Python Comments\n",
    "Comments are very important while writing a program. They describe what is going on inside a program, so that a person looking at the source code does not have a hard time figuring it out.\n",
    "\n",
    "\n",
    "In Python, we use the hash (#) symbol to start writing a comment."
   ]
  },
  {
   "cell_type": "code",
   "execution_count": 4,
   "id": "ce83ee44-b94b-489f-a027-4920dde0dd59",
   "metadata": {},
   "outputs": [],
   "source": [
    "# This is a long comment\n",
    "# and it extends\n",
    "# to multiple lines."
   ]
  },
  {
   "cell_type": "code",
   "execution_count": 5,
   "id": "886e06a0-1377-4cdd-b30b-9011a7c22ce5",
   "metadata": {},
   "outputs": [
    {
     "data": {
      "text/plain": [
       "'this is also a \\n perfect example of \\n multi-lines comments'"
      ]
     },
     "execution_count": 5,
     "metadata": {},
     "output_type": "execute_result"
    }
   ],
   "source": [
    "\"\"\"this is also a \n",
    " perfect example of \n",
    " multi-lines comments\"\"\""
   ]
  },
  {
   "cell_type": "code",
   "execution_count": 6,
   "id": "a4d0d867-afe5-47fd-bf6f-18daa7c2030c",
   "metadata": {},
   "outputs": [
    {
     "data": {
      "text/plain": [
       "' give me any two numbers '"
      ]
     },
     "execution_count": 6,
     "metadata": {},
     "output_type": "execute_result"
    }
   ],
   "source": [
    "\"\"\" give me any two numbers \"\"\""
   ]
  },
  {
   "cell_type": "markdown",
   "id": "3cc5e5c1-763a-4f47-a1c3-e3f612c3a4cb",
   "metadata": {},
   "source": [
    "<h3>Example of input() and use of one qoute.</h3>"
   ]
  },
  {
   "cell_type": "markdown",
   "id": "dfe22688-d52c-4547-b14b-bc2c938a2e6d",
   "metadata": {},
   "source": [
    "##### Input is used to take input from user\n",
    "\n",
    "a = int (input(\"Enter first count \"))\n",
    "b = int (input(\"Enter second count \"))\n",
    "print(a+b)"
   ]
  },
  {
   "cell_type": "code",
   "execution_count": 7,
   "id": "519df87b-c207-4f99-9425-1f7d6e278c72",
   "metadata": {},
   "outputs": [
    {
     "name": "stdin",
     "output_type": "stream",
     "text": [
      "Enter first number: = 7\n",
      "Enter second number: = 9\n"
     ]
    },
    {
     "name": "stdout",
     "output_type": "stream",
     "text": [
      "16\n"
     ]
    }
   ],
   "source": [
    "a = int (input('Enter first number: ='))\n",
    "b = int (input('Enter second number: ='))\n",
    "print(a+b)"
   ]
  },
  {
   "cell_type": "code",
   "execution_count": 13,
   "id": "90b8d47b-fee7-444e-9d87-fddaff4203e9",
   "metadata": {},
   "outputs": [
    {
     "name": "stdin",
     "output_type": "stream",
     "text": [
      "Enter the first weight: = 6\n",
      "Enter the second weight: = 7\n"
     ]
    },
    {
     "name": "stdout",
     "output_type": "stream",
     "text": [
      "0.8571428571428571\n"
     ]
    }
   ],
   "source": [
    "wgt_1 = float(input(\"Enter the first weight: =\"))\n",
    "wgt_2 = float(input(\"Enter the second weight: =\"))\n",
    "print(wgt_1/wgt_2)"
   ]
  },
  {
   "cell_type": "code",
   "execution_count": 30,
   "id": "e2594d56-d37a-46cc-8ba1-27dda19d4eaa",
   "metadata": {},
   "outputs": [
    {
     "data": {
      "text/plain": [
       "'I am a \\n multi-line \\n comment!'"
      ]
     },
     "execution_count": 30,
     "metadata": {},
     "output_type": "execute_result"
    }
   ],
   "source": [
    "'''I am a \n",
    " multi-line \n",
    " comment!'''"
   ]
  },
  {
   "cell_type": "markdown",
   "id": "f634fcc4-5a44-45ad-b5ae-726c72979ec8",
   "metadata": {},
   "source": [
    "## How to Write Better Comments?\n",
    "1. Use comments to describe what a function does and not the specific details on how the function does it.\n",
    "2. Try to remove as many redundant comments as possible. Try writing code that can explain itself, using better function/variable name choice.\n",
    "3. Try to make the comments as short and concise as possible."
   ]
  }
 ],
 "metadata": {
  "kernelspec": {
   "display_name": "Python 3",
   "language": "python",
   "name": "python3"
  },
  "language_info": {
   "codemirror_mode": {
    "name": "ipython",
    "version": 3
   },
   "file_extension": ".py",
   "mimetype": "text/x-python",
   "name": "python",
   "nbconvert_exporter": "python",
   "pygments_lexer": "ipython3",
   "version": "3.8.8"
  }
 },
 "nbformat": 4,
 "nbformat_minor": 5
}
