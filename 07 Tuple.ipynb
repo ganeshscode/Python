{
 "cells": [
  {
   "cell_type": "markdown",
   "id": "f2fcab7f-572d-4edc-90f7-1dc52e7dc9e0",
   "metadata": {},
   "source": [
    "# Tuples\n",
    "\n",
    "In Python tuples are very similar to lists, however, unlike lists they are *immutable* meaning they can not be changed. You would use tuples to present things that shouldn't be changed, such as days of the week, or dates on a calendar. \n",
    "\n",
    "In this section, we will get a brief overview of the following:\n",
    "\n",
    "    1.) Constructing Tuples\n",
    "    2.) Basic Tuple Methods\n",
    "    3.) Immutability\n",
    "    4.) When to Use Tuples\n",
    "    You'll have an intuition of how to use tuples based on what you've learned about lists. We can treat them very similarly with the major distinction being that tuples are immutable.\n",
    "\n",
    "## Constructing Tuples\n",
    "\n",
    "The construction of a tuples use () with elements separated by commas. For example:"
   ]
  },
  {
   "cell_type": "code",
   "execution_count": 1,
   "id": "b30b33bd-c0d7-48fc-8f0b-4cbeaf4f4def",
   "metadata": {},
   "outputs": [],
   "source": [
    "# create a tuple\n",
    "tup_1 = (1,2.5,3,'string')"
   ]
  },
  {
   "cell_type": "code",
   "execution_count": 2,
   "id": "2fe2f37f-ff26-4a87-abdc-d770fad19480",
   "metadata": {},
   "outputs": [
    {
     "data": {
      "text/plain": [
       "4"
      ]
     },
     "execution_count": 2,
     "metadata": {},
     "output_type": "execute_result"
    }
   ],
   "source": [
    "# Check len just like a list\n",
    "len(tup_1)"
   ]
  },
  {
   "cell_type": "code",
   "execution_count": 5,
   "id": "b0584680-f355-42f1-b4a2-de46f714a313",
   "metadata": {},
   "outputs": [
    {
     "data": {
      "text/plain": [
       "1"
      ]
     },
     "execution_count": 5,
     "metadata": {},
     "output_type": "execute_result"
    }
   ],
   "source": [
    "# Indesxing\n",
    "tup_1[0]"
   ]
  },
  {
   "cell_type": "code",
   "execution_count": 6,
   "id": "e25335ef-39b7-427b-8606-4bc08c664926",
   "metadata": {},
   "outputs": [
    {
     "data": {
      "text/plain": [
       "'string'"
      ]
     },
     "execution_count": 6,
     "metadata": {},
     "output_type": "execute_result"
    }
   ],
   "source": [
    "# Indexing\n",
    "tup_1[-1]"
   ]
  },
  {
   "cell_type": "markdown",
   "id": "7bf2fae7-9f36-478e-b635-a4d59121a5f6",
   "metadata": {},
   "source": [
    "## Basic Tuple Methods\n",
    "\n",
    "Tuples have built-in methods, but not as many as lists do. (We cannot use .add & .append) Let's look at two of them:"
   ]
  },
  {
   "cell_type": "code",
   "execution_count": 7,
   "id": "ec7219fc-c0fa-4e74-b882-68c83acbaadf",
   "metadata": {},
   "outputs": [
    {
     "data": {
      "text/plain": [
       "3"
      ]
     },
     "execution_count": 7,
     "metadata": {},
     "output_type": "execute_result"
    }
   ],
   "source": [
    "# Use .index to enter a value and return the index\n",
    "tup_1.index('string')"
   ]
  },
  {
   "cell_type": "code",
   "execution_count": 8,
   "id": "77051592-e6f6-4fae-b4fa-b4adab6544c1",
   "metadata": {},
   "outputs": [
    {
     "data": {
      "text/plain": [
       "1"
      ]
     },
     "execution_count": 8,
     "metadata": {},
     "output_type": "execute_result"
    }
   ],
   "source": [
    "tup_1.index(2.5)"
   ]
  },
  {
   "cell_type": "code",
   "execution_count": 9,
   "id": "8b712272-6070-46da-96d2-52cd47bbadd1",
   "metadata": {},
   "outputs": [
    {
     "data": {
      "text/plain": [
       "2"
      ]
     },
     "execution_count": 9,
     "metadata": {},
     "output_type": "execute_result"
    }
   ],
   "source": [
    "# Use .count to count the number of times a value appears\n",
    "tup_1 = (1,2.5,3,4,2.5,7)\n",
    "tup_1.count(2.5)"
   ]
  },
  {
   "cell_type": "code",
   "execution_count": 10,
   "id": "cf3221a1-cfd6-4062-a2d3-155fa4c8453d",
   "metadata": {},
   "outputs": [
    {
     "data": {
      "text/plain": [
       "(1, 2.5, 3, 4, 2.5, 7, 'ganu', 55, 9)"
      ]
     },
     "execution_count": 10,
     "metadata": {},
     "output_type": "execute_result"
    }
   ],
   "source": [
    "tup_1 + ('ganu', 55,9)"
   ]
  },
  {
   "cell_type": "markdown",
   "id": "43fbc490-4511-4cdb-868a-8e95411b78d2",
   "metadata": {},
   "source": [
    "## When to use Tuples\n",
    "\n",
    "You may be wondering, \"Why bother using tuples when they have fewer available methods?\" To be honest, tuples are not used as often as lists in programming, but are used when immutability is necessary. If in your program you are passing around an object and need to make sure it does not get changed, then a tuple becomes your solution. It provides a convenient source of data integrity.\n",
    "\n",
    "You should now be able to create and use tuples in your programming as well as have an understanding of their immutability."
   ]
  },
  {
   "cell_type": "code",
   "execution_count": 11,
   "id": "6ca306c7-ab5c-45a2-9dd8-a91907a52f3a",
   "metadata": {},
   "outputs": [
    {
     "name": "stdout",
     "output_type": "stream",
     "text": [
      "('python', 'python', 'python')\n"
     ]
    }
   ],
   "source": [
    "tuple3 = ('python',)*3\n",
    "print(tuple3)"
   ]
  },
  {
   "cell_type": "code",
   "execution_count": 12,
   "id": "85748362-7cbd-4b16-b0ad-01175dcb84d1",
   "metadata": {},
   "outputs": [
    {
     "name": "stdout",
     "output_type": "stream",
     "text": [
      "pythonpythonpython\n"
     ]
    }
   ],
   "source": [
    "tuple3 = ('python')*3\n",
    "print(tuple3)"
   ]
  },
  {
   "cell_type": "code",
   "execution_count": 15,
   "id": "b45ddf1d-7c72-41f0-b09f-f054345995b5",
   "metadata": {},
   "outputs": [
    {
     "name": "stdout",
     "output_type": "stream",
     "text": [
      "('python', '      ', 'python', '      ', 'python', '      ')\n"
     ]
    }
   ],
   "source": [
    "tuple3 = ('python','      '     ,)*3\n",
    "print(tuple3)"
   ]
  },
  {
   "cell_type": "code",
   "execution_count": 16,
   "id": "17615bb8-a965-447b-9e01-05bf13a8376f",
   "metadata": {},
   "outputs": [
    {
     "name": "stdout",
     "output_type": "stream",
     "text": [
      "(0, 1, 2, 3, 'python', 'geek')\n"
     ]
    }
   ],
   "source": [
    "# Code for concatenating 2 tuples\n",
    " \n",
    "tuple1 = (0, 1, 2, 3)\n",
    "tuple2 = ('python', 'geek')\n",
    " \n",
    "# Concatenating above two\n",
    "print(tuple1 + tuple2)"
   ]
  },
  {
   "cell_type": "code",
   "execution_count": 17,
   "id": "38c672ae-9f0b-4ad1-aefe-cd2dd25a0f6b",
   "metadata": {},
   "outputs": [
    {
     "data": {
      "text/plain": [
       "2"
      ]
     },
     "execution_count": 17,
     "metadata": {},
     "output_type": "execute_result"
    }
   ],
   "source": [
    "tuple1[2]"
   ]
  },
  {
   "cell_type": "code",
   "execution_count": 18,
   "id": "95e29d44-b7e5-406e-aa48-7ab6223d8e0d",
   "metadata": {},
   "outputs": [
    {
     "data": {
      "text/plain": [
       "'python'"
      ]
     },
     "execution_count": 18,
     "metadata": {},
     "output_type": "execute_result"
    }
   ],
   "source": [
    "tuple2[0]"
   ]
  },
  {
   "cell_type": "code",
   "execution_count": 19,
   "id": "8d585dbd-24c7-4f4c-b220-e779aca405a2",
   "metadata": {},
   "outputs": [
    {
     "name": "stdout",
     "output_type": "stream",
     "text": [
      "(1, 2, 3)\n",
      "(3, 2, 1, 0)\n",
      "(2, 3)\n"
     ]
    }
   ],
   "source": [
    "tuple1 = (0 ,1, 2, 3)\n",
    "print(tuple1[1:])\n",
    "print(tuple1[::-1])\n",
    "print(tuple1[2:4])"
   ]
  },
  {
   "cell_type": "code",
   "execution_count": 21,
   "id": "85c8b797-1e54-417b-a248-1190f7a0b4f8",
   "metadata": {},
   "outputs": [
    {
     "name": "stdout",
     "output_type": "stream",
     "text": [
      "(0, 1)\n"
     ]
    }
   ],
   "source": [
    "tuple3 = ( 0, 1)\n",
    "#del tuple3\n",
    "print(tuple3)"
   ]
  },
  {
   "cell_type": "code",
   "execution_count": 22,
   "id": "2615330d-9c69-4e0f-8a7b-1b8c080b938c",
   "metadata": {},
   "outputs": [],
   "source": [
    "del tuple3"
   ]
  },
  {
   "cell_type": "code",
   "execution_count": 24,
   "id": "385758b5-2ec9-4ba4-94a6-543a74837786",
   "metadata": {},
   "outputs": [
    {
     "name": "stdout",
     "output_type": "stream",
     "text": [
      "[0, 1, 2]\n"
     ]
    }
   ],
   "source": [
    "# Code for converting a list and a string into a tuple\n",
    " \n",
    "list1 = [0, 1, 2]\n",
    "print(list1)\n",
    "#print(tuple('python')) # string 'python'"
   ]
  },
  {
   "cell_type": "code",
   "execution_count": 26,
   "id": "4fe9079c-43e7-449c-8611-50e3ccfdcefd",
   "metadata": {},
   "outputs": [
    {
     "name": "stdout",
     "output_type": "stream",
     "text": [
      "(0, 1, 2)\n"
     ]
    }
   ],
   "source": [
    "print(tuple(list1))"
   ]
  },
  {
   "cell_type": "code",
   "execution_count": 27,
   "id": "7cf11308-80d2-427d-9265-9d3b04cce4f2",
   "metadata": {},
   "outputs": [
    {
     "name": "stdout",
     "output_type": "stream",
     "text": [
      "('G', 'a', 'n', 'u', 'd', 'a', 'd', 'a')\n"
     ]
    }
   ],
   "source": [
    "\n",
    "print(tuple('Ganudada')) # string 'python'"
   ]
  },
  {
   "cell_type": "code",
   "execution_count": 28,
   "id": "843e5cca-833d-4b2f-a412-4defe52ad268",
   "metadata": {},
   "outputs": [
    {
     "data": {
      "text/plain": [
       "('g', 'a', 'n', 'u', 'd', 'a', 'd', 'a')"
      ]
     },
     "execution_count": 28,
     "metadata": {},
     "output_type": "execute_result"
    }
   ],
   "source": [
    "tuple('ganudada')"
   ]
  },
  {
   "cell_type": "code",
   "execution_count": 34,
   "id": "af06679a-23b1-4670-8f72-7bffdfee4f36",
   "metadata": {},
   "outputs": [
    {
     "name": "stdout",
     "output_type": "stream",
     "text": [
      "(('geek',),)\n",
      "((('geek',),),)\n",
      "(((('geek',),),),)\n",
      "((((('geek',),),),),)\n",
      "(((((('geek',),),),),),)\n"
     ]
    }
   ],
   "source": [
    "# python code for creating tuples in a loop\n",
    " \n",
    "tup = ('geek',)\n",
    "n = 5  # Number of time loop runs\n",
    "for i in range(int(n)):\n",
    "    tup = tup,\n",
    "    print(tup)"
   ]
  },
  {
   "cell_type": "code",
   "execution_count": 35,
   "id": "6e301120-ee93-4939-abee-dff5bc6db9a0",
   "metadata": {},
   "outputs": [],
   "source": [
    "tup= 'ganu'"
   ]
  },
  {
   "cell_type": "code",
   "execution_count": 36,
   "id": "b0d1fce9-3871-4f03-a965-d1ab426721be",
   "metadata": {},
   "outputs": [
    {
     "data": {
      "text/plain": [
       "'ganu'"
      ]
     },
     "execution_count": 36,
     "metadata": {},
     "output_type": "execute_result"
    }
   ],
   "source": [
    "tup"
   ]
  },
  {
   "cell_type": "code",
   "execution_count": 37,
   "id": "c80e7c2e-3c76-449a-9d33-71e9b52fe40c",
   "metadata": {},
   "outputs": [
    {
     "data": {
      "text/plain": [
       "str"
      ]
     },
     "execution_count": 37,
     "metadata": {},
     "output_type": "execute_result"
    }
   ],
   "source": [
    "type(tup)"
   ]
  },
  {
   "cell_type": "code",
   "execution_count": 38,
   "id": "5cf45553-a69b-420f-b5cc-52cda7339286",
   "metadata": {},
   "outputs": [],
   "source": [
    "tup='ganu',"
   ]
  },
  {
   "cell_type": "code",
   "execution_count": 39,
   "id": "4e477ec2-762a-4dbe-a778-de58c7c7bda8",
   "metadata": {},
   "outputs": [
    {
     "data": {
      "text/plain": [
       "('ganu',)"
      ]
     },
     "execution_count": 39,
     "metadata": {},
     "output_type": "execute_result"
    }
   ],
   "source": [
    "tup"
   ]
  },
  {
   "cell_type": "code",
   "execution_count": 40,
   "id": "72debceb-2ec8-4955-b5cc-031277a02698",
   "metadata": {},
   "outputs": [
    {
     "data": {
      "text/plain": [
       "tuple"
      ]
     },
     "execution_count": 40,
     "metadata": {},
     "output_type": "execute_result"
    }
   ],
   "source": [
    "type(tup)"
   ]
  },
  {
   "cell_type": "code",
   "execution_count": null,
   "id": "d618cdca-2b51-4dad-a703-56897fe3473e",
   "metadata": {},
   "outputs": [],
   "source": []
  }
 ],
 "metadata": {
  "kernelspec": {
   "display_name": "Python 3",
   "language": "python",
   "name": "python3"
  },
  "language_info": {
   "codemirror_mode": {
    "name": "ipython",
    "version": 3
   },
   "file_extension": ".py",
   "mimetype": "text/x-python",
   "name": "python",
   "nbconvert_exporter": "python",
   "pygments_lexer": "ipython3",
   "version": "3.8.8"
  }
 },
 "nbformat": 4,
 "nbformat_minor": 5
}
