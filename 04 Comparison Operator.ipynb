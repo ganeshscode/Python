{
 "cells": [
  {
   "cell_type": "markdown",
   "id": "aebfe11e-1491-454d-8507-18840c70dbd4",
   "metadata": {},
   "source": [
    "# Comparison Operators \n",
    "\n",
    "In this lecture we will be learning about Comparison Operators in Python. These operators will allow us to compare variables and output a Boolean value (True or False). \n",
    "\n",
    "If you have any sort of background in Math, these operators should be very straight forward.\n",
    "\n",
    "First we'll present a table of the comparison operators and then work through some examples:"
   ]
  },
  {
   "cell_type": "markdown",
   "id": "88fcd7cb-6b6d-4795-88c7-dfb9fe632b92",
   "metadata": {},
   "source": [
    "<h2> Table of Comparison Operators </h2><p>  In the table below, a=3 and b=4.</p>\n",
    "\n",
    "<table class=\"table table-bordered\">\n",
    "<tr>\n",
    "<th style=\"width:10%\">Operator</th><th style=\"width:45%\">Description</th><th>Example</th>\n",
    "</tr>\n",
    "<tr>\n",
    "<td>==</td>\n",
    "<td>If the values of two operands are equal, then the condition becomes true.</td>\n",
    "<td> (a == b) is not true.</td>\n",
    "</tr>\n",
    "<tr>\n",
    "<td>!=</td>\n",
    "<td>If values of two operands are not equal, then condition becomes true.</td>\n",
    "<td>(a != b) is true</td>\n",
    "</tr>\n",
    "<tr>\n",
    "<td>&gt;</td>\n",
    "<td>If the value of left operand is greater than the value of right operand, then condition becomes true.</td>\n",
    "<td> (a &gt; b) is not true.</td>\n",
    "</tr>\n",
    "<tr>\n",
    "<td>&lt;</td>\n",
    "<td>If the value of left operand is less than the value of right operand, then condition becomes true.</td>\n",
    "<td> (a &lt; b) is true.</td>\n",
    "</tr>\n",
    "<tr>\n"
   ]
  },
  {
   "cell_type": "markdown",
   "id": "92878fd4-38b0-4d2e-9a3b-7d9b1c9c54e1",
   "metadata": {},
   "source": [
    "## Equal"
   ]
  },
  {
   "cell_type": "code",
   "execution_count": 3,
   "id": "7815f82d-598e-465b-bb33-57d5d769c9ed",
   "metadata": {},
   "outputs": [
    {
     "data": {
      "text/plain": [
       "True"
      ]
     },
     "execution_count": 3,
     "metadata": {},
     "output_type": "execute_result"
    }
   ],
   "source": [
    "2 == 2"
   ]
  },
  {
   "cell_type": "code",
   "execution_count": 4,
   "id": "9d503ad5-dc43-4894-bdd3-0cd2077e34f1",
   "metadata": {},
   "outputs": [
    {
     "data": {
      "text/plain": [
       "False"
      ]
     },
     "execution_count": 4,
     "metadata": {},
     "output_type": "execute_result"
    }
   ],
   "source": [
    "1 == 0"
   ]
  },
  {
   "cell_type": "markdown",
   "id": "0e0963b7-04ec-4aec-9435-06ca1a7a8c3c",
   "metadata": {},
   "source": [
    "Note that <code>==</code> is a comparison operator, while <code>=</code> is an assignment operator."
   ]
  },
  {
   "cell_type": "markdown",
   "id": "3d56b824-ac2e-43b8-af87-8c5d0a1ef14b",
   "metadata": {},
   "source": [
    "## Not Equal"
   ]
  },
  {
   "cell_type": "code",
   "execution_count": 5,
   "id": "b112ce70-ffc9-498c-8750-60ab946b7208",
   "metadata": {},
   "outputs": [
    {
     "data": {
      "text/plain": [
       "True"
      ]
     },
     "execution_count": 5,
     "metadata": {},
     "output_type": "execute_result"
    }
   ],
   "source": [
    "2 != 1"
   ]
  },
  {
   "cell_type": "code",
   "execution_count": 6,
   "id": "89254658-3b6b-494a-ac2c-e64a9628f225",
   "metadata": {},
   "outputs": [
    {
     "data": {
      "text/plain": [
       "False"
      ]
     },
     "execution_count": 6,
     "metadata": {},
     "output_type": "execute_result"
    }
   ],
   "source": [
    "3 != 3"
   ]
  },
  {
   "cell_type": "markdown",
   "id": "c6e22081-65b3-49e6-bd7e-ae615fcefe3d",
   "metadata": {},
   "source": [
    "## Greater Than"
   ]
  },
  {
   "cell_type": "code",
   "execution_count": 7,
   "id": "03b3efdd-8a35-4224-a2a4-2e5d336f58d1",
   "metadata": {},
   "outputs": [
    {
     "data": {
      "text/plain": [
       "True"
      ]
     },
     "execution_count": 7,
     "metadata": {},
     "output_type": "execute_result"
    }
   ],
   "source": [
    "2 > 1"
   ]
  },
  {
   "cell_type": "code",
   "execution_count": 8,
   "id": "a7a8c129-41b8-434d-8337-9eb81959c081",
   "metadata": {},
   "outputs": [
    {
     "data": {
      "text/plain": [
       "False"
      ]
     },
     "execution_count": 8,
     "metadata": {},
     "output_type": "execute_result"
    }
   ],
   "source": [
    "2 > 3"
   ]
  },
  {
   "cell_type": "markdown",
   "id": "f34566ce-5d6d-49dc-9434-b96cd032ad8a",
   "metadata": {},
   "source": [
    "## Less Than"
   ]
  },
  {
   "cell_type": "code",
   "execution_count": 9,
   "id": "e052c109-2316-40c2-a5ad-40530ab5499e",
   "metadata": {},
   "outputs": [
    {
     "data": {
      "text/plain": [
       "True"
      ]
     },
     "execution_count": 9,
     "metadata": {},
     "output_type": "execute_result"
    }
   ],
   "source": [
    "1 < 2"
   ]
  },
  {
   "cell_type": "code",
   "execution_count": 10,
   "id": "a9929415-3f9f-4b55-8ce4-a9ca9a21d44d",
   "metadata": {},
   "outputs": [
    {
     "data": {
      "text/plain": [
       "False"
      ]
     },
     "execution_count": 10,
     "metadata": {},
     "output_type": "execute_result"
    }
   ],
   "source": [
    "3 < 2"
   ]
  },
  {
   "cell_type": "markdown",
   "id": "35e6c084-131c-447f-b96d-5dec56ae1ea9",
   "metadata": {},
   "source": [
    "## Greater Than Equal To"
   ]
  },
  {
   "cell_type": "code",
   "execution_count": 13,
   "id": "8d2e197e-5d55-4556-b26c-cd01e04b3deb",
   "metadata": {},
   "outputs": [
    {
     "data": {
      "text/plain": [
       "True"
      ]
     },
     "execution_count": 13,
     "metadata": {},
     "output_type": "execute_result"
    }
   ],
   "source": [
    "2 >= 1"
   ]
  },
  {
   "cell_type": "code",
   "execution_count": 14,
   "id": "845dc40f-3018-43e7-a760-bbf1ae6c158c",
   "metadata": {},
   "outputs": [
    {
     "data": {
      "text/plain": [
       "False"
      ]
     },
     "execution_count": 14,
     "metadata": {},
     "output_type": "execute_result"
    }
   ],
   "source": [
    "2>=3"
   ]
  },
  {
   "cell_type": "markdown",
   "id": "b3868be0-eac2-447c-9137-3daff4dd878f",
   "metadata": {},
   "source": [
    "## Less Than Equal To"
   ]
  },
  {
   "cell_type": "code",
   "execution_count": 18,
   "id": "d613ae1c-bbec-49b3-9bc6-968622f91f0a",
   "metadata": {},
   "outputs": [
    {
     "data": {
      "text/plain": [
       "True"
      ]
     },
     "execution_count": 18,
     "metadata": {},
     "output_type": "execute_result"
    }
   ],
   "source": [
    "2 <= 9"
   ]
  },
  {
   "cell_type": "code",
   "execution_count": 16,
   "id": "345253ae-fe9c-4ca4-b3c5-e258a87eb864",
   "metadata": {},
   "outputs": [
    {
     "data": {
      "text/plain": [
       "False"
      ]
     },
     "execution_count": 16,
     "metadata": {},
     "output_type": "execute_result"
    }
   ],
   "source": [
    "2 <= 1"
   ]
  },
  {
   "cell_type": "code",
   "execution_count": null,
   "id": "af212471-4dd3-4043-83ee-23879422592d",
   "metadata": {},
   "outputs": [],
   "source": []
  }
 ],
 "metadata": {
  "kernelspec": {
   "display_name": "Python 3",
   "language": "python",
   "name": "python3"
  },
  "language_info": {
   "codemirror_mode": {
    "name": "ipython",
    "version": 3
   },
   "file_extension": ".py",
   "mimetype": "text/x-python",
   "name": "python",
   "nbconvert_exporter": "python",
   "pygments_lexer": "ipython3",
   "version": "3.8.8"
  }
 },
 "nbformat": 4,
 "nbformat_minor": 5
}
