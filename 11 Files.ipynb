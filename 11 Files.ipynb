{
 "cells": [
  {
   "cell_type": "markdown",
   "id": "52c65aa5-80dd-4719-9889-bb1c2c292167",
   "metadata": {},
   "source": [
    "# Files\n",
    "\n",
    "Python uses file objects to interact with external files on your computer. These file objects can be any sort of file you have on your computer, whether it be an audio file, a text file, emails, Excel documents, etc. Note: You will probably need to install certain libraries or modules to interact with those various file types, but they are easily available. (We will cover downloading modules later on in the course).\n",
    "Python has a built-in open function that allows us to open and play with basic file types. First we will need a file though. We're going to use some IPython magic to create a text file!\n",
    "\n",
    "## IPython Writing a File \n",
    "#### This function is specific to jupyter notebooks! Alternatively, quickly create a simple .txt file ."
   ]
  },
  {
   "cell_type": "code",
   "execution_count": 1,
   "id": "a9678458-cbb0-48be-ad0e-813eb39fcbec",
   "metadata": {},
   "outputs": [
    {
     "name": "stdout",
     "output_type": "stream",
     "text": [
      "Overwriting test.txt\n"
     ]
    }
   ],
   "source": [
    "%%writefile test.txt\n",
    "Hello, this is a quick test file i am next line"
   ]
  },
  {
   "cell_type": "code",
   "execution_count": 2,
   "id": "764b92dd-a745-47c5-9072-4d84178ed695",
   "metadata": {},
   "outputs": [
    {
     "name": "stdout",
     "output_type": "stream",
     "text": [
      "Overwriting test.txt\n"
     ]
    }
   ],
   "source": [
    "%%writefile test.txt\n",
    "Hello, this is a quick test file i am next line"
   ]
  },
  {
   "cell_type": "code",
   "execution_count": 4,
   "id": "725f0082-7fa4-40c2-8398-1d653ad06a54",
   "metadata": {},
   "outputs": [
    {
     "name": "stdout",
     "output_type": "stream",
     "text": [
      "Overwriting test.txt\n"
     ]
    }
   ],
   "source": [
    "%%writefile test.txt\n",
    "Hello, this is a quick test file \\ni am next line\n",
    "I am new line. Bhai\n",
    "# \\n has no meaning in files"
   ]
  },
  {
   "cell_type": "code",
   "execution_count": 5,
   "id": "2d21022c-5298-4805-bded-776f79f66b08",
   "metadata": {},
   "outputs": [],
   "source": [
    "# Open the test.txt we made earlier\n",
    "my_file = open('test.txt')\n",
    "# By this way we can simply open file which is created in same folder where code file is saved."
   ]
  },
  {
   "cell_type": "code",
   "execution_count": 6,
   "id": "4c5a287c-6f3a-4fd3-89a4-0f59eac168aa",
   "metadata": {},
   "outputs": [
    {
     "data": {
      "text/plain": [
       "'Hello, this is a quick test file \\\\ni am next line\\nI am new line. Bhai\\n# \\\\n has no meaning in files\\n'"
      ]
     },
     "execution_count": 6,
     "metadata": {},
     "output_type": "execute_result"
    }
   ],
   "source": [
    "my_file.read()"
   ]
  },
  {
   "cell_type": "markdown",
   "id": "b4cee9ea-5d44-42a5-8834-8d7cc60211d4",
   "metadata": {},
   "source": [
    "**Alternatively, to grab files from any location on your computer, simply pass in the entire file path.** \n",
    "\n",
    "myfile = open(\"/Users/YouUserName/Folder/myfile.txt\")\n"
   ]
  },
  {
   "cell_type": "code",
   "execution_count": 10,
   "id": "d16fecba-85f6-467b-85f2-84c477114751",
   "metadata": {},
   "outputs": [],
   "source": [
    "# You can manually write file location\n",
    "my_file = open ('d:/PYTHON/Module 01/ganuFiles.txt')"
   ]
  },
  {
   "cell_type": "code",
   "execution_count": 11,
   "id": "cf838c01-d90d-4ca1-acd2-99c36e35bba2",
   "metadata": {},
   "outputs": [],
   "source": [
    "# my_file = open ('D:\\PYTHON')\n",
    "# Copying path from my pc, in this method you have to change \\ to / and also you have to put file name manually\n",
    "my_file = open ('d:/PYTHON/Module 01/ganuFiles.txt')"
   ]
  },
  {
   "cell_type": "code",
   "execution_count": 19,
   "id": "82ab4ce4-3b4d-4f4d-9703-a2cecfbefcc9",
   "metadata": {},
   "outputs": [],
   "source": [
    "#my_file = open ('PYTHON/ganuFiles.txt')\n",
    "# Copying path from jupyter lab, Go on file, right click on file and choose option of Copy path and paste it but again in this case you have put drive name manually\n",
    "my_file = open ('d:/PYTHON/Module 01/ganuFiles.txt')"
   ]
  },
  {
   "cell_type": "code",
   "execution_count": 20,
   "id": "74cc147e-87cb-4267-bef4-fcc1129962ca",
   "metadata": {},
   "outputs": [
    {
     "name": "stdout",
     "output_type": "stream",
     "text": [
      "Overwriting ganuFiles.txt\n"
     ]
    }
   ],
   "source": [
    "%%writefile ganuFiles.txt\n",
    "I am new line"
   ]
  },
  {
   "cell_type": "code",
   "execution_count": 21,
   "id": "d55a1035-6c85-4a7c-a9e8-c222cd69e3e0",
   "metadata": {},
   "outputs": [
    {
     "name": "stdout",
     "output_type": "stream",
     "text": [
      "Overwriting ganuFiles.txt\n"
     ]
    }
   ],
   "source": [
    "%%writefile ganuFiles.txt\n",
    "I am new line\n",
    "Hello Brother"
   ]
  },
  {
   "cell_type": "code",
   "execution_count": 22,
   "id": "967f1f49-9936-4706-ad68-9b04573f2af7",
   "metadata": {},
   "outputs": [
    {
     "data": {
      "text/plain": [
       "'I am new line\\nHello Brother\\n'"
      ]
     },
     "execution_count": 22,
     "metadata": {},
     "output_type": "execute_result"
    }
   ],
   "source": [
    "my_file.read()"
   ]
  },
  {
   "cell_type": "markdown",
   "id": "74975d10-1d9e-4cb5-89b3-754b8d6ff9ea",
   "metadata": {},
   "source": [
    "## Note\n",
    "\n",
    "If the File is open then we can't make changes in that file, so before making changes we have to close the file from jupyter lab itself."
   ]
  },
  {
   "cell_type": "code",
   "execution_count": 40,
   "id": "d98e9b5a-2e6e-40a7-a8a9-616e70832512",
   "metadata": {},
   "outputs": [],
   "source": [
    "my_file = open('test.txt')"
   ]
  },
  {
   "cell_type": "code",
   "execution_count": 41,
   "id": "007bc2a8-16ec-49d0-9038-d5c90962dd29",
   "metadata": {},
   "outputs": [
    {
     "name": "stdout",
     "output_type": "stream",
     "text": [
      "Overwriting test.txt\n"
     ]
    }
   ],
   "source": [
    "%%writefile test.txt\n",
    "Bha, I am here"
   ]
  },
  {
   "cell_type": "code",
   "execution_count": 42,
   "id": "9664a073-aee6-449a-b5c4-306aa3dc25ae",
   "metadata": {},
   "outputs": [
    {
     "data": {
      "text/plain": [
       "'Bha, I am here\\n'"
      ]
     },
     "execution_count": 42,
     "metadata": {},
     "output_type": "execute_result"
    }
   ],
   "source": [
    "my_file.read()\n",
    "# To read and write into file we have to open the file first"
   ]
  },
  {
   "cell_type": "markdown",
   "id": "a41d4eb8-61f6-4354-896b-431ccca001dd",
   "metadata": {},
   "source": [
    "This happens because you can imagine the reading \"cursor\" is at the end of the file after having read it. So there is nothing left to read. We can reset the \"cursor\" like this:"
   ]
  },
  {
   "cell_type": "code",
   "execution_count": 25,
   "id": "9fe1cdf9-dce1-411f-a5c6-8dadce34e4e8",
   "metadata": {},
   "outputs": [
    {
     "data": {
      "text/plain": [
       "''"
      ]
     },
     "execution_count": 25,
     "metadata": {},
     "output_type": "execute_result"
    }
   ],
   "source": [
    "my_file.read()"
   ]
  },
  {
   "cell_type": "code",
   "execution_count": 43,
   "id": "f4a21b0d-5327-437a-9347-4af686c93828",
   "metadata": {},
   "outputs": [
    {
     "data": {
      "text/plain": [
       "0"
      ]
     },
     "execution_count": 43,
     "metadata": {},
     "output_type": "execute_result"
    }
   ],
   "source": [
    "my_file.seek(0)"
   ]
  },
  {
   "cell_type": "code",
   "execution_count": 27,
   "id": "12da4cb8-fdc7-4144-8e1f-fe050a614ca4",
   "metadata": {},
   "outputs": [
    {
     "data": {
      "text/plain": [
       "'Hello, this is a quick test file \\\\ni am next line\\nI am new line. Bhai\\n# \\\\n has no meaning in files\\n'"
      ]
     },
     "execution_count": 27,
     "metadata": {},
     "output_type": "execute_result"
    }
   ],
   "source": [
    "my_file.read()"
   ]
  },
  {
   "cell_type": "code",
   "execution_count": 99,
   "id": "b28a96b5-7038-460d-9519-eec1db56a03f",
   "metadata": {},
   "outputs": [],
   "source": [
    "my_file1 = open ('ganuFiles.txt')\n"
   ]
  },
  {
   "cell_type": "code",
   "execution_count": 106,
   "id": "14e8b960-8278-4ca9-9a48-bb5c0010e443",
   "metadata": {},
   "outputs": [
    {
     "data": {
      "text/plain": [
       "'I am new line\\nHello Brother\\nGanesh\\n'"
      ]
     },
     "execution_count": 106,
     "metadata": {},
     "output_type": "execute_result"
    }
   ],
   "source": [
    "# seek will make pointer always begin at 0 index\n",
    "\n",
    "my_file1.seek(0)\n",
    "my_file1.read()"
   ]
  },
  {
   "cell_type": "code",
   "execution_count": 98,
   "id": "7491cfcd-ffdd-40cf-afc6-a43c8add205a",
   "metadata": {},
   "outputs": [
    {
     "name": "stdout",
     "output_type": "stream",
     "text": [
      "Overwriting ganuFiles.txt\n"
     ]
    }
   ],
   "source": [
    "%%writefile ganuFiles.txt\n",
    "I am new line\n",
    "Hello Brother\n",
    "Ganesh"
   ]
  },
  {
   "cell_type": "markdown",
   "id": "e17fde8f-9ba6-4696-819f-f0d84505f054",
   "metadata": {},
   "source": [
    "You can read a file line by line using the readlines method. Use caution with large files, since everything will be held in memory. We will learn how to iterate over large files later in the course.\n"
   ]
  },
  {
   "cell_type": "code",
   "execution_count": 36,
   "id": "c4ba8af6-67b4-49a5-ab01-1249c13afb92",
   "metadata": {},
   "outputs": [
    {
     "data": {
      "text/plain": [
       "['Hello, this is a quick test file \\\\ni am next line\\n',\n",
       " 'I am new line. Bhai\\n',\n",
       " '# \\\\n has no meaning in files\\n']"
      ]
     },
     "execution_count": 36,
     "metadata": {},
     "output_type": "execute_result"
    }
   ],
   "source": [
    "my_file.seek(0)\n",
    "my_file.readlines()"
   ]
  },
  {
   "cell_type": "code",
   "execution_count": 30,
   "id": "eb06fa4f-fa4e-4258-ae4a-b987c0f1b4f8",
   "metadata": {},
   "outputs": [
    {
     "data": {
      "text/plain": [
       "['Hello, this is a quick test file \\\\ni am next line\\n']"
      ]
     },
     "execution_count": 30,
     "metadata": {},
     "output_type": "execute_result"
    }
   ],
   "source": [
    "my_file.seek(0)\n",
    "my_file.readlines(1)"
   ]
  },
  {
   "cell_type": "code",
   "execution_count": 31,
   "id": "1cfea44c-585b-40fc-8eb1-350ce6df34d7",
   "metadata": {
    "tags": []
   },
   "outputs": [
    {
     "data": {
      "text/plain": [
       "['Hello, this is a quick test file \\\\ni am next line\\n']"
      ]
     },
     "execution_count": 31,
     "metadata": {},
     "output_type": "execute_result"
    }
   ],
   "source": [
    "my_file.seek(0)\n",
    "my_file.readlines(2)\n",
    "# readlines() it converts file into list and every line into individual string."
   ]
  },
  {
   "cell_type": "code",
   "execution_count": 32,
   "id": "f826e7a3-57af-4dd5-a9bc-55334a41425d",
   "metadata": {},
   "outputs": [],
   "source": [
    "my_file.close()"
   ]
  },
  {
   "cell_type": "markdown",
   "id": "ad8fc76c-bc14-4bd3-ba3a-f47524c52413",
   "metadata": {},
   "source": [
    "when you have finished using a file, it is always good practice to close it."
   ]
  },
  {
   "cell_type": "markdown",
   "id": "12c401f5-cfbe-47c4-b9e7-8c625f5aa895",
   "metadata": {},
   "source": [
    "## Writing to a File\n",
    "\n",
    "By default, the `open()` function will only allow us to read the file. We need to pass the argument `'w'` to write over the file. For example:"
   ]
  },
  {
   "cell_type": "code",
   "execution_count": 44,
   "id": "0a2e94dd-74a6-48b3-b73c-5ead4e05fdf8",
   "metadata": {},
   "outputs": [],
   "source": [
    "# Add second argument to the function, \"w\" which stands for write\n",
    "# Passing 'w+' lets us read and write to the file\n",
    "my_file = open ('test.txt','w')"
   ]
  },
  {
   "cell_type": "markdown",
   "id": "b5392ea4-70ba-4831-bb7c-bdec11b335b4",
   "metadata": {},
   "source": [
    "### <strong><font color='red'>Use caution!</font></strong> \n",
    "Opening a file with `'w'` or `'w+'` truncates the original, meaning that anything that was in the original file **is deleted**!"
   ]
  },
  {
   "cell_type": "code",
   "execution_count": 45,
   "id": "d20d7c54-55e0-4775-b199-d25b7c9198dd",
   "metadata": {},
   "outputs": [
    {
     "ename": "UnsupportedOperation",
     "evalue": "not readable",
     "output_type": "error",
     "traceback": [
      "\u001b[1;31m---------------------------------------------------------------------------\u001b[0m",
      "\u001b[1;31mUnsupportedOperation\u001b[0m                      Traceback (most recent call last)",
      "\u001b[1;32m<ipython-input-45-946fbe6e2856>\u001b[0m in \u001b[0;36m<module>\u001b[1;34m\u001b[0m\n\u001b[0;32m      1\u001b[0m \u001b[1;31m# Read the file\u001b[0m\u001b[1;33m\u001b[0m\u001b[1;33m\u001b[0m\u001b[1;33m\u001b[0m\u001b[0m\n\u001b[0;32m      2\u001b[0m \u001b[0mmy_file\u001b[0m\u001b[1;33m.\u001b[0m\u001b[0mseek\u001b[0m\u001b[1;33m(\u001b[0m\u001b[1;36m0\u001b[0m\u001b[1;33m)\u001b[0m\u001b[1;33m\u001b[0m\u001b[1;33m\u001b[0m\u001b[0m\n\u001b[1;32m----> 3\u001b[1;33m \u001b[0mmy_file\u001b[0m\u001b[1;33m.\u001b[0m\u001b[0mread\u001b[0m\u001b[1;33m(\u001b[0m\u001b[1;33m)\u001b[0m\u001b[1;33m\u001b[0m\u001b[1;33m\u001b[0m\u001b[0m\n\u001b[0m",
      "\u001b[1;31mUnsupportedOperation\u001b[0m: not readable"
     ]
    }
   ],
   "source": [
    "# Read the file\n",
    "my_file.seek(0)\n",
    "my_file.read()"
   ]
  },
  {
   "cell_type": "markdown",
   "id": "b421a174-8080-43ec-8510-33fb8e8e21a2",
   "metadata": {},
   "source": [
    "Error occurs because 'w' does not allow reading it allows only writting while 'w+' allows both.They delets previous data and then write into it."
   ]
  },
  {
   "cell_type": "code",
   "execution_count": 75,
   "id": "30e7cb9e-e13c-427c-8be2-e9248fd891ce",
   "metadata": {},
   "outputs": [],
   "source": [
    "my_file = open ('test.txt','w+')"
   ]
  },
  {
   "cell_type": "code",
   "execution_count": 76,
   "id": "608aba76-61be-4c87-bd9b-3543211627e8",
   "metadata": {},
   "outputs": [
    {
     "data": {
      "text/plain": [
       "''"
      ]
     },
     "execution_count": 76,
     "metadata": {},
     "output_type": "execute_result"
    }
   ],
   "source": [
    "# Read the file, Proof that 'w' & 'w+' clears previous data\n",
    "my_file.seek(0)\n",
    "my_file.read()"
   ]
  },
  {
   "cell_type": "markdown",
   "id": "4e61f2b1-650d-4a17-a525-465bff5aaaa8",
   "metadata": {},
   "source": [
    "## Appending to a File\n",
    "Passing the argument `'a'` opens the file and puts the pointer at the end, so anything written is appended. Like `'w+'`, `'a+'` lets us read and write to a file. If the file does not exist, one will be created."
   ]
  },
  {
   "cell_type": "code",
   "execution_count": 48,
   "id": "33d85c4e-3156-410e-82ce-23f1599706e0",
   "metadata": {},
   "outputs": [],
   "source": [
    "my_file.close()"
   ]
  },
  {
   "cell_type": "code",
   "execution_count": 49,
   "id": "5bc831c2-1d22-4bde-a69e-4e44103aa040",
   "metadata": {},
   "outputs": [
    {
     "data": {
      "text/plain": [
       "22"
      ]
     },
     "execution_count": 49,
     "metadata": {},
     "output_type": "execute_result"
    }
   ],
   "source": [
    "my_file = open ('test.txt','a+')\n",
    "my_file.write ( 'This is text being appended to test.txt' )\n",
    "my_file.write ('\\nAnd another line here')"
   ]
  },
  {
   "cell_type": "code",
   "execution_count": 53,
   "id": "2cb749d5-b596-48de-bb5a-439457fa3885",
   "metadata": {},
   "outputs": [
    {
     "data": {
      "text/plain": [
       "'This is text being appended to test.txt\\nAnd another line here'"
      ]
     },
     "execution_count": 53,
     "metadata": {},
     "output_type": "execute_result"
    }
   ],
   "source": [
    "my_file.seek(0)\n",
    "my_file.read()"
   ]
  },
  {
   "cell_type": "code",
   "execution_count": 33,
   "id": "233a5a3f-bec9-4c13-a890-2eab8eb83dfb",
   "metadata": {},
   "outputs": [],
   "source": [
    "my_file.close()"
   ]
  },
  {
   "cell_type": "markdown",
   "id": "f4a7cd36-ee35-4b26-806f-3753ccaa6e92",
   "metadata": {},
   "source": [
    "# With statement\n",
    "\n",
    "with open(\"filename\",\"openmode\") as fileObject"
   ]
  },
  {
   "cell_type": "code",
   "execution_count": 74,
   "id": "e758b874-3dbd-4e0a-861e-61afc63da6d3",
   "metadata": {},
   "outputs": [
    {
     "name": "stdout",
     "output_type": "stream",
     "text": [
      "This is text being appended to test.txt\n",
      "\n",
      "And another line here\n",
      "\n",
      " i am writting to test\n",
      "\n",
      " i am writting to test\n",
      "\n",
      " i am writting to test\n"
     ]
    }
   ],
   "source": [
    "with open('test.txt','r+') as my_file:\n",
    "    my_file.write(\"\\n i am writting to test\")\n",
    "    for line in my_file:\n",
    "        print(line)\n",
    "        #my_file.read()\n",
    "    my_file.close()"
   ]
  },
  {
   "cell_type": "code",
   "execution_count": 51,
   "id": "fe2495a2-3231-4906-b74d-0b0af33e9f5c",
   "metadata": {},
   "outputs": [
    {
     "ename": "UnsupportedOperation",
     "evalue": "not writable",
     "output_type": "error",
     "traceback": [
      "\u001b[1;31m---------------------------------------------------------------------------\u001b[0m",
      "\u001b[1;31mUnsupportedOperation\u001b[0m                      Traceback (most recent call last)",
      "\u001b[1;32m<ipython-input-51-96250124e708>\u001b[0m in \u001b[0;36m<module>\u001b[1;34m\u001b[0m\n\u001b[0;32m      1\u001b[0m \u001b[1;32mwith\u001b[0m \u001b[0mopen\u001b[0m\u001b[1;33m(\u001b[0m\u001b[1;34m'test.txt'\u001b[0m\u001b[1;33m,\u001b[0m\u001b[1;34m'r'\u001b[0m\u001b[1;33m)\u001b[0m \u001b[1;32mas\u001b[0m \u001b[0mf\u001b[0m\u001b[1;33m:\u001b[0m\u001b[1;33m\u001b[0m\u001b[1;33m\u001b[0m\u001b[0m\n\u001b[1;32m----> 2\u001b[1;33m     \u001b[0mf\u001b[0m\u001b[1;33m.\u001b[0m\u001b[0mwrite\u001b[0m\u001b[1;33m(\u001b[0m\u001b[1;34m\"\\n i am writting to test\"\u001b[0m\u001b[1;33m)\u001b[0m\u001b[1;33m\u001b[0m\u001b[1;33m\u001b[0m\u001b[0m\n\u001b[0m\u001b[0;32m      3\u001b[0m     \u001b[1;32mfor\u001b[0m \u001b[0mline\u001b[0m \u001b[1;32min\u001b[0m \u001b[0mf\u001b[0m\u001b[1;33m:\u001b[0m\u001b[1;33m\u001b[0m\u001b[1;33m\u001b[0m\u001b[0m\n\u001b[0;32m      4\u001b[0m         \u001b[0mprint\u001b[0m\u001b[1;33m(\u001b[0m\u001b[0mline\u001b[0m\u001b[1;33m)\u001b[0m\u001b[1;33m\u001b[0m\u001b[1;33m\u001b[0m\u001b[0m\n\u001b[0;32m      5\u001b[0m         \u001b[1;31m#f.read()\u001b[0m\u001b[1;33m\u001b[0m\u001b[1;33m\u001b[0m\u001b[1;33m\u001b[0m\u001b[0m\n",
      "\u001b[1;31mUnsupportedOperation\u001b[0m: not writable"
     ]
    }
   ],
   "source": [
    "with open('test.txt','r') as f:\n",
    "    f.write(\"\\n i am writting to test\")\n",
    "    for line in f:\n",
    "        print(line)\n",
    "        #f.read()\n",
    "    f.close()"
   ]
  },
  {
   "cell_type": "code",
   "execution_count": 56,
   "id": "f8fd7372-4f42-4a33-877f-edf229bed4ca",
   "metadata": {},
   "outputs": [
    {
     "name": "stdout",
     "output_type": "stream",
     "text": [
      "\n"
     ]
    }
   ],
   "source": [
    "with open('Ganesh.txt', 'w+') as g:\n",
    "     print(g.read())"
   ]
  },
  {
   "cell_type": "markdown",
   "id": "58e11e74-6a06-45d5-bd4a-d19be13c74fa",
   "metadata": {},
   "source": [
    "It is normal 'r' mode, and file is blank so no output."
   ]
  },
  {
   "cell_type": "code",
   "execution_count": 61,
   "id": "4efe719d-6d41-4b33-971e-882efcdabf35",
   "metadata": {},
   "outputs": [
    {
     "name": "stdout",
     "output_type": "stream",
     "text": [
      "Overwriting Ganesh.txt\n"
     ]
    }
   ],
   "source": [
    "%%writefile Ganesh.txt\n",
    "Vaibhav\n",
    "Ganesh\n",
    "vaibhav\n",
    "ganesh"
   ]
  },
  {
   "cell_type": "code",
   "execution_count": 62,
   "id": "7fc72c29-cbb3-4253-b7be-9fd2b5cb7851",
   "metadata": {},
   "outputs": [
    {
     "name": "stdout",
     "output_type": "stream",
     "text": [
      "Vaibhav\n",
      "Ganesh\n",
      "vaibhav\n",
      "ganesh\n",
      "\n"
     ]
    }
   ],
   "source": [
    "with open('Ganesh.txt') as g:\n",
    "     print(g.read())"
   ]
  },
  {
   "cell_type": "code",
   "execution_count": 63,
   "id": "634f1cde-7ab6-4829-862d-ab255458f63c",
   "metadata": {},
   "outputs": [],
   "source": [
    " # with open ('Ganesh.txt','r+') as g:\n",
    "   # g.write('Ganu')"
   ]
  },
  {
   "cell_type": "code",
   "execution_count": 64,
   "id": "4ef35453-2069-41ea-8e87-dd57d89891a1",
   "metadata": {},
   "outputs": [],
   "source": [
    "# with open('Ganesh.txt','r+') as g:\n",
    "    #print(g.read())"
   ]
  },
  {
   "cell_type": "markdown",
   "id": "f53b6dc7-9cac-4fc8-a328-9bc5f58cbd24",
   "metadata": {},
   "source": [
    "### Note\n",
    "In r+ mode, we can read and write the file, but the file pointer position is at the beginning of the file; if we write the file directly, it will overwrite the beginning content."
   ]
  },
  {
   "cell_type": "code",
   "execution_count": 71,
   "id": "d3e789bf-b3d5-4c31-b2f8-a702766550c7",
   "metadata": {},
   "outputs": [],
   "source": [
    "with open ('Ganesh.txt','r+') as g:\n",
    "    g.read()\n",
    "    g.write('Dada')"
   ]
  },
  {
   "cell_type": "code",
   "execution_count": 72,
   "id": "db37acba-a127-498e-afad-260bdd109264",
   "metadata": {},
   "outputs": [
    {
     "name": "stdout",
     "output_type": "stream",
     "text": [
      "Vaibhav\n",
      "Ganesh\n",
      "vaibhav\n",
      "ganesh\n",
      "GanuGanuGanuDada\n"
     ]
    }
   ],
   "source": [
    "with open ('Ganesh.txt') as g:\n",
    "    print(g.read())"
   ]
  },
  {
   "cell_type": "code",
   "execution_count": null,
   "id": "83b222cd-545d-40d6-901b-25593693923b",
   "metadata": {},
   "outputs": [],
   "source": []
  },
  {
   "cell_type": "code",
   "execution_count": null,
   "id": "8483dcc3-1ddb-45e8-b05a-f31490b56470",
   "metadata": {},
   "outputs": [],
   "source": []
  }
 ],
 "metadata": {
  "kernelspec": {
   "display_name": "Python 3",
   "language": "python",
   "name": "python3"
  },
  "language_info": {
   "codemirror_mode": {
    "name": "ipython",
    "version": 3
   },
   "file_extension": ".py",
   "mimetype": "text/x-python",
   "name": "python",
   "nbconvert_exporter": "python",
   "pygments_lexer": "ipython3",
   "version": "3.8.8"
  }
 },
 "nbformat": 4,
 "nbformat_minor": 5
}
