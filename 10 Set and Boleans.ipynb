{
 "cells": [
  {
   "cell_type": "markdown",
   "id": "668c92d8-9209-4c65-94b1-39599cf41e97",
   "metadata": {},
   "source": [
    "# Set and Booleans\n",
    "\n",
    "There are two other object types in Python that we should quickly cover: Sets and Booleans. \n",
    "\n",
    "## Sets\n",
    "\n",
    "Sets are an unordered collection of *unique* elements. We can construct them by using the set() function. Let's go ahead and make a set to see how it works"
   ]
  },
  {
   "cell_type": "code",
   "execution_count": 1,
   "id": "ffb8067c-e8fe-48e9-b523-a2c9302478cf",
   "metadata": {},
   "outputs": [],
   "source": [
    "x = set()"
   ]
  },
  {
   "cell_type": "code",
   "execution_count": 2,
   "id": "a8977510-b5e7-4738-a19f-6621150ca523",
   "metadata": {},
   "outputs": [],
   "source": [
    "# We add to sets with the add() method\n",
    "x.add(1)"
   ]
  },
  {
   "cell_type": "code",
   "execution_count": 3,
   "id": "531a1864-1ef8-4620-afb8-f14e75deb15c",
   "metadata": {},
   "outputs": [
    {
     "data": {
      "text/plain": [
       "{1}"
      ]
     },
     "execution_count": 3,
     "metadata": {},
     "output_type": "execute_result"
    }
   ],
   "source": [
    "# Show\n",
    "x"
   ]
  },
  {
   "cell_type": "code",
   "execution_count": 4,
   "id": "529f3482-01f1-4311-a56f-b2f43df7d52c",
   "metadata": {},
   "outputs": [
    {
     "data": {
      "text/plain": [
       "{1}"
      ]
     },
     "execution_count": 4,
     "metadata": {},
     "output_type": "execute_result"
    }
   ],
   "source": [
    "x"
   ]
  },
  {
   "cell_type": "markdown",
   "id": "52723dd5-d2a9-44e2-a6e0-e49ebd62c9ef",
   "metadata": {},
   "source": [
    "Note the curly brackets. This does not indicate a dictionary! Although you can draw analogies as a set being a dictionary with only keys.\n",
    "\n",
    "We know that a set has only unique entries. So what happens when we try to add something that is already in a set?"
   ]
  },
  {
   "cell_type": "code",
   "execution_count": 5,
   "id": "acad6b94-f5a1-467b-ba6a-065badb50e40",
   "metadata": {},
   "outputs": [],
   "source": [
    "# Add a different value\n",
    "x.add(2)"
   ]
  },
  {
   "cell_type": "code",
   "execution_count": 6,
   "id": "ab7f973d-f689-41d5-a5ac-0b51115ed2c8",
   "metadata": {},
   "outputs": [
    {
     "data": {
      "text/plain": [
       "{1, 2}"
      ]
     },
     "execution_count": 6,
     "metadata": {},
     "output_type": "execute_result"
    }
   ],
   "source": [
    "# Show\n",
    "x"
   ]
  },
  {
   "cell_type": "code",
   "execution_count": 7,
   "id": "636eed5a-7f02-40a0-9d17-260e5d609a83",
   "metadata": {},
   "outputs": [],
   "source": [
    "# Try to add the same element\n",
    "x.add(1)\n",
    "# set does not take .append also we caant do concatenation"
   ]
  },
  {
   "cell_type": "code",
   "execution_count": 8,
   "id": "34da948e-655a-4a35-aac5-ebc15ff744db",
   "metadata": {},
   "outputs": [
    {
     "data": {
      "text/plain": [
       "{1, 2}"
      ]
     },
     "execution_count": 8,
     "metadata": {},
     "output_type": "execute_result"
    }
   ],
   "source": [
    "# Show\n",
    "x"
   ]
  },
  {
   "cell_type": "code",
   "execution_count": 58,
   "id": "537ea48f-20fb-4f27-9ee2-c9aa91ee9143",
   "metadata": {},
   "outputs": [
    {
     "name": "stdout",
     "output_type": "stream",
     "text": [
      "{'ganu', 'raju', 'bhai', 'manu'}\n"
     ]
    }
   ],
   "source": [
    "# set stores data in unordered manner\n",
    "g={'ganu','manu','raju','bhai'}\n",
    "print(g)"
   ]
  },
  {
   "cell_type": "code",
   "execution_count": 40,
   "id": "1fbae109-5c05-4e75-8f8f-45b837bcc0cb",
   "metadata": {},
   "outputs": [
    {
     "name": "stdout",
     "output_type": "stream",
     "text": [
      "{'raju', 'bhai', 'dada', 'manu', 'ganu'}\n"
     ]
    }
   ],
   "source": [
    "g.add('dada')\n",
    "print(g)"
   ]
  },
  {
   "cell_type": "code",
   "execution_count": 44,
   "id": "b26d3253-2ff1-4f08-a73b-ef8227e49a42",
   "metadata": {},
   "outputs": [
    {
     "name": "stdout",
     "output_type": "stream",
     "text": [
      "{'raj', 'shri', 'raju', 'bhai', 'kanha', 'manu', 'ganu'}\n"
     ]
    }
   ],
   "source": [
    "# If we wants to add list to a set\n",
    "g={'ganu','manu','raju','bhai'}\n",
    "v=['kanha','raj','shri','bhai']\n",
    "g.update(v)\n",
    "print(g)"
   ]
  },
  {
   "cell_type": "code",
   "execution_count": 51,
   "id": "7be476a8-9444-4709-864e-55cbfdea6e35",
   "metadata": {},
   "outputs": [
    {
     "name": "stdout",
     "output_type": "stream",
     "text": [
      "{'raj', 'shri', 'raju', 'bhai', 'tatya', 'kanha', 'manu', 'ganu'}\n"
     ]
    }
   ],
   "source": [
    "#Also we can give multiple values at single time using .update method\n",
    "g.update(v,{'tatya'})\n",
    "print(g)"
   ]
  },
  {
   "cell_type": "markdown",
   "id": "33bd92a7-4944-45cf-a5cb-623fb28b71b4",
   "metadata": {},
   "source": [
    "Notice how it won't place another 1 there. That's because a set is only concerned with unique elements! We can cast a list with multiple repeat elements to a set to get the unique elements. For example:"
   ]
  },
  {
   "cell_type": "code",
   "execution_count": 59,
   "id": "aaac93ab-ae89-43fc-93c4-6952d1b75f35",
   "metadata": {},
   "outputs": [
    {
     "name": "stdout",
     "output_type": "stream",
     "text": [
      "{'raju', 'bhai', 'manu'}\n"
     ]
    }
   ],
   "source": [
    "# If we want to remove any value from set, it can be done using .discard & .remove method\n",
    "g.discard('ganu')\n",
    "print(g)"
   ]
  },
  {
   "cell_type": "code",
   "execution_count": 60,
   "id": "217f472b-c069-44ef-bf15-3e751aedb278",
   "metadata": {},
   "outputs": [
    {
     "name": "stdout",
     "output_type": "stream",
     "text": [
      "{'raju', 'manu'}\n"
     ]
    }
   ],
   "source": [
    "g.remove('bhai')\n",
    "print(g)"
   ]
  },
  {
   "cell_type": "markdown",
   "id": "cd029237-57f0-4e3c-9813-a761e653cfa0",
   "metadata": {},
   "source": [
    "## Difference between .remove and .discard\n",
    "#### It we tries to remove an item, which is not present in set, by using .reomove method python will show error \n",
    "#### while .discard will give output as none/null.\n"
   ]
  },
  {
   "cell_type": "code",
   "execution_count": 63,
   "id": "c4a35c90-bcd8-471a-9aea-4af99f965c49",
   "metadata": {},
   "outputs": [
    {
     "ename": "KeyError",
     "evalue": "'Veda'",
     "output_type": "error",
     "traceback": [
      "\u001b[1;31m---------------------------------------------------------------------------\u001b[0m",
      "\u001b[1;31mKeyError\u001b[0m                                  Traceback (most recent call last)",
      "\u001b[1;32m<ipython-input-63-a246f32d7cbc>\u001b[0m in \u001b[0;36m<module>\u001b[1;34m\u001b[0m\n\u001b[1;32m----> 1\u001b[1;33m \u001b[0mg\u001b[0m\u001b[1;33m.\u001b[0m\u001b[0mremove\u001b[0m\u001b[1;33m(\u001b[0m\u001b[1;34m'Veda'\u001b[0m\u001b[1;33m)\u001b[0m\u001b[1;33m\u001b[0m\u001b[1;33m\u001b[0m\u001b[0m\n\u001b[0m",
      "\u001b[1;31mKeyError\u001b[0m: 'Veda'"
     ]
    }
   ],
   "source": [
    "g.remove('Veda')"
   ]
  },
  {
   "cell_type": "code",
   "execution_count": 66,
   "id": "ffe7fe08-07c9-4b79-b234-e4011f76784d",
   "metadata": {},
   "outputs": [],
   "source": [
    "# It doesnt give any output\n",
    "g.discard('veda')"
   ]
  },
  {
   "cell_type": "code",
   "execution_count": 68,
   "id": "edf46c68-2fd7-4d6c-9240-b57798ea1b86",
   "metadata": {},
   "outputs": [
    {
     "name": "stdout",
     "output_type": "stream",
     "text": [
      "set()\n"
     ]
    }
   ],
   "source": [
    "# to delete all the data of a set we can use a .clear method\n",
    "g.clear()\n",
    "print(g)"
   ]
  },
  {
   "cell_type": "code",
   "execution_count": 67,
   "id": "81a04559-2515-4116-b02c-3e76148a648b",
   "metadata": {},
   "outputs": [],
   "source": [
    "# Create a list with repeats\n",
    "list1 = [1,1,2,2,3,4,5,6,1,1]"
   ]
  },
  {
   "cell_type": "code",
   "execution_count": 32,
   "id": "62195e94-3374-4732-841e-f4cde62b9e4a",
   "metadata": {},
   "outputs": [
    {
     "data": {
      "text/plain": [
       "{1, 2, 3, 4, 5, 6}"
      ]
     },
     "execution_count": 32,
     "metadata": {},
     "output_type": "execute_result"
    }
   ],
   "source": [
    "# Cast as set to get unique values\n",
    "\n",
    "# Interview question to print only unique elements from given list\n",
    "\n",
    "set(list1)"
   ]
  },
  {
   "cell_type": "code",
   "execution_count": 34,
   "id": "9f228b6b-0a37-4046-bf09-940be7bf43ff",
   "metadata": {},
   "outputs": [
    {
     "name": "stdout",
     "output_type": "stream",
     "text": [
      "{1, 2, 3, 4, 5, 6}\n"
     ]
    }
   ],
   "source": [
    "# It also can be done by just putting curly brackets{}\n",
    "\n",
    "list1 = {1,1,2,2,3,4,5,6,1,1}\n",
    "print(list1)"
   ]
  },
  {
   "cell_type": "code",
   "execution_count": 74,
   "id": "3813ff1a-51b1-48ed-bc7a-8d9d5c27b347",
   "metadata": {},
   "outputs": [
    {
     "name": "stdout",
     "output_type": "stream",
     "text": [
      "{'lion', 'elephant', 'cat', 'tiger', 'dog'}\n"
     ]
    }
   ],
   "source": [
    "# for union of sets we can use .union method\n",
    "\n",
    "domestic_animals={'dog','cat','elephant'}\n",
    "wild_animals={'lion','tiger','elephant'}\n",
    "print(domestic_animals.union(wild_animals))"
   ]
  },
  {
   "cell_type": "code",
   "execution_count": 73,
   "id": "f7fe7a7b-6b67-4c0c-88e8-3cedd75a01a6",
   "metadata": {},
   "outputs": [
    {
     "name": "stdout",
     "output_type": "stream",
     "text": [
      "{'lion', 'elephant', 'cat', 'tiger', 'dog'}\n"
     ]
    }
   ],
   "source": [
    "# union can be done by using |\n",
    "print(domestic_animals|wild_animals)"
   ]
  },
  {
   "cell_type": "code",
   "execution_count": 75,
   "id": "81b6dda3-fbbc-4d34-a78b-b8bef67ddefe",
   "metadata": {},
   "outputs": [
    {
     "name": "stdout",
     "output_type": "stream",
     "text": [
      "{'elephant'}\n"
     ]
    }
   ],
   "source": [
    "# for intersection (common objects) we can use .intersection method or \"&\"\n",
    "print(domestic_animals.intersection(wild_animals))"
   ]
  },
  {
   "cell_type": "code",
   "execution_count": 77,
   "id": "a8ddd13b-c6cc-47cb-a131-5634fdc1e808",
   "metadata": {},
   "outputs": [
    {
     "name": "stdout",
     "output_type": "stream",
     "text": [
      "{'elephant'}\n"
     ]
    }
   ],
   "source": [
    "# Using \"&\" operator\n",
    "print(domestic_animals & wild_animals)"
   ]
  },
  {
   "cell_type": "code",
   "execution_count": 79,
   "id": "043955b1-f3c1-4606-b610-e925f7e9fed5",
   "metadata": {},
   "outputs": [
    {
     "name": "stdout",
     "output_type": "stream",
     "text": [
      "False\n"
     ]
    }
   ],
   "source": [
    "# to check object is present in set or not \n",
    "print(\"ganu\" in wild_animals)"
   ]
  },
  {
   "cell_type": "code",
   "execution_count": 82,
   "id": "4e45a31c-c4d8-4dd2-8db1-26c76b36a11b",
   "metadata": {},
   "outputs": [
    {
     "name": "stdout",
     "output_type": "stream",
     "text": [
      "cat\n",
      "elephant\n",
      "dog\n"
     ]
    }
   ],
   "source": [
    "# to print all the items of set\n",
    "for animal in domestic_animals:\n",
    "    print(animal)"
   ]
  },
  {
   "cell_type": "markdown",
   "id": "4928b51c-7c42-4cbf-bcd3-562243f1b44e",
   "metadata": {},
   "source": [
    "## Difference between Two Sets\n",
    "#### The difference between two sets A and B include elements of set A that are not present on set B.\n",
    "#### We use the - operator or the difference() method to perform the difference between two sets. For example,"
   ]
  },
  {
   "cell_type": "code",
   "execution_count": 4,
   "id": "fe30fe15-163c-47a3-bea9-d0c0f7e07ff3",
   "metadata": {},
   "outputs": [
    {
     "name": "stdout",
     "output_type": "stream",
     "text": [
      "Difference using -: {3, 5}\n",
      "Difference using difference(): {3, 5}\n"
     ]
    }
   ],
   "source": [
    "# first set\n",
    "A = {2, 3, 5}\n",
    "\n",
    "# second set\n",
    "B = {1, 2, 6}\n",
    "\n",
    "# perform difference operation using &\n",
    "print('Difference using -:', A - B)\n",
    "\n",
    "# perform difference operation using difference()\n",
    "print('Difference using difference():', A.difference(B)) "
   ]
  },
  {
   "cell_type": "markdown",
   "id": "83dd5783-c697-4b15-9683-de83b3146b17",
   "metadata": {},
   "source": [
    "## Set Symmetric Difference\n",
    "#### The symmetric difference between two sets A and B includes all elements of A and B without the common elements.\n",
    "####  In Python, we use the ^ operator or the symmetric_difference() method to perform symmetric difference between two sets. For example,"
   ]
  },
  {
   "cell_type": "code",
   "execution_count": 5,
   "id": "9eb144b7-1e24-4861-9907-eb25ddcc2ffe",
   "metadata": {},
   "outputs": [
    {
     "name": "stdout",
     "output_type": "stream",
     "text": [
      "using ^: {1, 3, 5, 6}\n",
      "using symmetric_difference(): {1, 3, 5, 6}\n"
     ]
    }
   ],
   "source": [
    "# first set\n",
    "A = {2, 3, 5}\n",
    "\n",
    "# second set\n",
    "B = {1, 2, 6}\n",
    "\n",
    "# perform difference operation using &\n",
    "print('using ^:', A ^ B)\n",
    "\n",
    "# using symmetric_difference()\n",
    "print('using symmetric_difference():', A.symmetric_difference(B)) "
   ]
  },
  {
   "cell_type": "markdown",
   "id": "dd46ed0f-101d-42c5-b2fd-377bac494277",
   "metadata": {},
   "source": [
    "# Check if two sets are equal\n",
    "#### We can use the == operator to check whether two sets are equal or not. For example,"
   ]
  },
  {
   "cell_type": "code",
   "execution_count": 9,
   "id": "f42de24d-2a9e-4243-bef8-7c43e704a9e3",
   "metadata": {},
   "outputs": [
    {
     "name": "stdout",
     "output_type": "stream",
     "text": [
      "Set A and Set B are equal\n"
     ]
    }
   ],
   "source": [
    "# first set\n",
    "A = {1, 3, 5}\n",
    "\n",
    "# second set\n",
    "B = {3, 5, 1}\n",
    "\n",
    "# perform difference operation using &\n",
    "if A == B:\n",
    "    print('Set A and Set B are equal')\n",
    "else:\n",
    "    print('Set A and Set B are not equal')"
   ]
  },
  {
   "cell_type": "markdown",
   "id": "1626855c-0609-4e12-90d6-5a45e0452190",
   "metadata": {},
   "source": [
    "## Booleans\n",
    "\n",
    "Python  comes with Booleans (with predefined True and False displays that are basically just the integers 1 and 0). It also has a placeholder object called None. Let's walk through a few quick examples of Booleans (we will dive deeper into them later in this course)."
   ]
  },
  {
   "cell_type": "code",
   "execution_count": 18,
   "id": "6ee029d2-0a47-4d9e-97cb-5d9415e2e17f",
   "metadata": {},
   "outputs": [],
   "source": [
    "# set object to be a boolean\n",
    "a = True\n",
    "b = False"
   ]
  },
  {
   "cell_type": "markdown",
   "id": "4e6948fb-fc02-4ea7-b5f5-f826b2a52318",
   "metadata": {},
   "source": [
    "#### Note\n",
    "The 'T' of True and 'F' of False will always CAPITAL."
   ]
  },
  {
   "cell_type": "code",
   "execution_count": 19,
   "id": "76438b93-8dfe-4d95-884f-0f08bf0b73d4",
   "metadata": {},
   "outputs": [
    {
     "data": {
      "text/plain": [
       "True"
      ]
     },
     "execution_count": 19,
     "metadata": {},
     "output_type": "execute_result"
    }
   ],
   "source": [
    "# Show\n",
    "a"
   ]
  },
  {
   "cell_type": "markdown",
   "id": "39e6e06b-0ca6-479e-8248-077cf83ce7e6",
   "metadata": {},
   "source": [
    "We can also use comparison operators to create booleans. We already have gone through comparison operators."
   ]
  },
  {
   "cell_type": "code",
   "execution_count": 18,
   "id": "753b8a9e-efcd-4156-b036-0a845fa7ee5e",
   "metadata": {},
   "outputs": [
    {
     "data": {
      "text/plain": [
       "True"
      ]
     },
     "execution_count": 18,
     "metadata": {},
     "output_type": "execute_result"
    }
   ],
   "source": [
    "# Output is boolean\n",
    "1 < 2"
   ]
  },
  {
   "cell_type": "code",
   "execution_count": 19,
   "id": "ec95259d-ee08-49d8-8245-ab30ab0dba82",
   "metadata": {},
   "outputs": [],
   "source": [
    "# None placeholder\n",
    "b = None"
   ]
  },
  {
   "cell_type": "code",
   "execution_count": 20,
   "id": "86822c35-4b33-4672-8b53-7665f3339324",
   "metadata": {},
   "outputs": [
    {
     "name": "stdout",
     "output_type": "stream",
     "text": [
      "None\n"
     ]
    }
   ],
   "source": [
    "# Show\n",
    "print(b)"
   ]
  },
  {
   "cell_type": "code",
   "execution_count": 21,
   "id": "90d5e534-a554-45fe-9da6-f47fa63009ff",
   "metadata": {},
   "outputs": [],
   "source": [
    "b"
   ]
  },
  {
   "cell_type": "code",
   "execution_count": 22,
   "id": "af9afdd1-985a-43de-bc9f-760d32abb16c",
   "metadata": {},
   "outputs": [
    {
     "data": {
      "text/plain": [
       "140712007800960"
      ]
     },
     "execution_count": 22,
     "metadata": {},
     "output_type": "execute_result"
    }
   ],
   "source": [
    "# It shows location of b\n",
    "id(b)"
   ]
  },
  {
   "cell_type": "code",
   "execution_count": 23,
   "id": "3debe1b9-84aa-4e56-9878-70160d8644e5",
   "metadata": {},
   "outputs": [
    {
     "data": {
      "text/plain": [
       "NoneType"
      ]
     },
     "execution_count": 23,
     "metadata": {},
     "output_type": "execute_result"
    }
   ],
   "source": [
    "type(b)"
   ]
  },
  {
   "cell_type": "markdown",
   "id": "290d7684-9e21-4d57-8e37-cf9e6e531055",
   "metadata": {},
   "source": [
    "That it! You should now have basic understanding of set and booleans"
   ]
  },
  {
   "cell_type": "code",
   "execution_count": 35,
   "id": "ddced408-4d2a-4571-a40a-c463b9816754",
   "metadata": {},
   "outputs": [
    {
     "name": "stdout",
     "output_type": "stream",
     "text": [
      "{'ganu', 'raju', 'bhai', 'manu'}\n"
     ]
    }
   ],
   "source": [
    "g={'ganu','manu','raju','bhai'}\n",
    "print(g)"
   ]
  },
  {
   "cell_type": "code",
   "execution_count": null,
   "id": "db46405c-9658-4f15-b52b-61fb6315909c",
   "metadata": {},
   "outputs": [],
   "source": []
  }
 ],
 "metadata": {
  "kernelspec": {
   "display_name": "Python 3",
   "language": "python",
   "name": "python3"
  },
  "language_info": {
   "codemirror_mode": {
    "name": "ipython",
    "version": 3
   },
   "file_extension": ".py",
   "mimetype": "text/x-python",
   "name": "python",
   "nbconvert_exporter": "python",
   "pygments_lexer": "ipython3",
   "version": "3.8.8"
  }
 },
 "nbformat": 4,
 "nbformat_minor": 5
}
