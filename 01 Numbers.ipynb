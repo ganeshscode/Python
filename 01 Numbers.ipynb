{
 "cells": [
  {
   "cell_type": "markdown",
   "id": "0ada5d10-f29f-4d73-b0e1-a58528ef7a99",
   "metadata": {},
   "source": [
    "# Numbers and more in Python!\n",
    "\n",
    "In this lecture, we will learn about numbers in Python and how to use them.\n",
    "\n",
    "We'll learn about the following topics:\n",
    "\n",
    "    1.) Types of Numbers in Python\n",
    "    2.) Basic Arithmetic\n",
    "    3.) Differences between classic division and floor division\n",
    "    4.) Object Assignment in Python"
   ]
  },
  {
   "cell_type": "markdown",
   "id": "b1fa0d30-756b-4483-ab0e-ea783bbbffee",
   "metadata": {},
   "source": [
    "## Types of numbers\n",
    "\n",
    "Python has various \"types\" of numbers (numeric literals). We'll mainly focus on integers and floating point numbers.\n",
    "\n",
    "Integers are just whole numbers, positive or negative. For example: 2 and -2 are examples of integers.\n",
    "Floating point numbers in Python are notable because they have a decimal point in them, or use an exponential (e) to define the number. For example 2.0 and -2.1 are examples of floating point numbers. \n",
    "\n",
    "Throughout this code we will be mainly working with integers or simple float number types.\n",
    "\n",
    "Here is a table of the two main types we will spend most of our time working with some examples:"
   ]
  },
  {
   "cell_type": "markdown",
   "id": "d1b58ad2-8283-4b2e-a120-7e452dd0d86c",
   "metadata": {},
   "source": [
    "<table>\n",
    "<tr>\n",
    "    <th>Examples</th> \n",
    "    <th>Number \"Type\"</th>\n",
    "</tr>\n",
    "\n",
    "<tr>\n",
    "    <td>1,2,-5,1000</td>\n",
    "    <td>Integers</td> \n",
    "</tr>\n",
    "\n",
    "<tr>\n",
    "    <td>1.2,-0.5,2e2,3E2</td> \n",
    "    <td>Floating-point numbers</td> \n",
    "</tr>\n",
    " </table>"
   ]
  },
  {
   "cell_type": "markdown",
   "id": "2424b966-912a-4ad5-90fb-759ba15ecf85",
   "metadata": {},
   "source": [
    "### Basic Arithmetics"
   ]
  },
  {
   "cell_type": "code",
   "execution_count": 5,
   "id": "5d67047d-4ae6-4476-a01c-64b462791960",
   "metadata": {},
   "outputs": [
    {
     "data": {
      "text/plain": [
       "11"
      ]
     },
     "execution_count": 5,
     "metadata": {},
     "output_type": "execute_result"
    }
   ],
   "source": [
    "# Addition\n",
    "2+9"
   ]
  },
  {
   "cell_type": "code",
   "execution_count": 7,
   "id": "0479a3c7-5c4d-48b9-a392-4fbec0bfc7b3",
   "metadata": {},
   "outputs": [
    {
     "data": {
      "text/plain": [
       "4"
      ]
     },
     "execution_count": 7,
     "metadata": {},
     "output_type": "execute_result"
    }
   ],
   "source": [
    "# Substraction\n",
    "9-5"
   ]
  },
  {
   "cell_type": "code",
   "execution_count": 9,
   "id": "745a5e3b-ba68-493f-a559-50e09ff1a7f8",
   "metadata": {},
   "outputs": [
    {
     "data": {
      "text/plain": [
       "10"
      ]
     },
     "execution_count": 9,
     "metadata": {},
     "output_type": "execute_result"
    }
   ],
   "source": [
    "# Multiplication\n",
    "2*5"
   ]
  },
  {
   "cell_type": "code",
   "execution_count": 4,
   "id": "d45daeee-d3aa-4cdb-8998-0844aab8fb61",
   "metadata": {},
   "outputs": [
    {
     "data": {
      "text/plain": [
       "2.142857142857143"
      ]
     },
     "execution_count": 4,
     "metadata": {},
     "output_type": "execute_result"
    }
   ],
   "source": [
    "# Division\n",
    "15/7"
   ]
  },
  {
   "cell_type": "code",
   "execution_count": 2,
   "id": "7f127234-1379-4333-b886-e61a756da921",
   "metadata": {},
   "outputs": [
    {
     "data": {
      "text/plain": [
       "1"
      ]
     },
     "execution_count": 2,
     "metadata": {},
     "output_type": "execute_result"
    }
   ],
   "source": [
    "# Floor Division\n",
    "7//4\n"
   ]
  },
  {
   "cell_type": "code",
   "execution_count": null,
   "id": "9040ff90",
   "metadata": {},
   "outputs": [],
   "source": []
  },
  {
   "cell_type": "code",
   "execution_count": 43,
   "id": "59cdd316-58b8-46f2-ac66-4c0e79adfa45",
   "metadata": {},
   "outputs": [],
   "source": [
    "### Floor Division"
   ]
  },
  {
   "cell_type": "markdown",
   "id": "b8ef4c7f-0fdd-4914-b300-eef40a85a430",
   "metadata": {},
   "source": [
    "Note:Floor division will give quetient as product"
   ]
  },
  {
   "cell_type": "markdown",
   "id": "3f65a64c-f983-452a-b6a6-79ac28c53ddc",
   "metadata": {},
   "source": [
    "**Whoa! What just happened? .... 7 divided by 4 equals 1.75 not 1!**\n",
    "\n",
    "The reason we get this result is because we are using \"*floor*\" division. The // operator (two forward slashes) truncates the decimal without rounding, and returns an integer result."
   ]
  },
  {
   "cell_type": "code",
   "execution_count": 44,
   "id": "0c9abdfe-1511-4fa5-b7b1-6be54d5f142f",
   "metadata": {},
   "outputs": [
    {
     "name": "stdout",
     "output_type": "stream",
     "text": [
      "3\n",
      "3\n"
     ]
    }
   ],
   "source": [
    "from math import floor\n",
    "a = 10\n",
    "b = 3\n",
    "print(a//b)        # 3\n",
    "print(floor(a/b))  # 3"
   ]
  },
  {
   "cell_type": "markdown",
   "id": "208397b3-0276-4af5-b923-c4690c8b62e9",
   "metadata": {},
   "source": [
    "#### so what we just want to remainder after division?"
   ]
  },
  {
   "cell_type": "code",
   "execution_count": 49,
   "id": "48c183e0-c794-4055-84c2-305e1da1725a",
   "metadata": {},
   "outputs": [
    {
     "data": {
      "text/plain": [
       "3"
      ]
     },
     "execution_count": 49,
     "metadata": {},
     "output_type": "execute_result"
    }
   ],
   "source": [
    "# The % symbol shows remainder\n",
    "75%9\n",
    "# it means 75 divided by 9"
   ]
  },
  {
   "cell_type": "code",
   "execution_count": 54,
   "id": "d5f84168-5b8c-49a7-b4a9-e4ada49d19f8",
   "metadata": {},
   "outputs": [
    {
     "data": {
      "text/plain": [
       "125"
      ]
     },
     "execution_count": 54,
     "metadata": {},
     "output_type": "execute_result"
    }
   ],
   "source": [
    "# Power\n",
    "5**3"
   ]
  },
  {
   "cell_type": "code",
   "execution_count": 58,
   "id": "116136d2-3c34-4448-985d-b158dece5b70",
   "metadata": {},
   "outputs": [
    {
     "data": {
      "text/plain": [
       "5.0"
      ]
     },
     "execution_count": 58,
     "metadata": {},
     "output_type": "execute_result"
    }
   ],
   "source": [
    "# We get square root by this method\n",
    "25**0.5\n",
    "# it shows that square root of 25 is 5"
   ]
  },
  {
   "cell_type": "code",
   "execution_count": 68,
   "id": "aac3bde2-6513-4c29-8e0a-47285bc097e8",
   "metadata": {},
   "outputs": [
    {
     "data": {
      "text/plain": [
       "55.0"
      ]
     },
     "execution_count": 68,
     "metadata": {},
     "output_type": "execute_result"
    }
   ],
   "source": [
    "# Order of operations followed in python\n",
    "2 + 10 * 10 / 2 + 3"
   ]
  },
  {
   "cell_type": "markdown",
   "id": "42850b1f-ca49-475f-bac2-2ebebf468b16",
   "metadata": {},
   "source": [
    "(PEMDAS=Parentheses, Exponents, Multiplication/Division, Addition/Subtraction)"
   ]
  },
  {
   "cell_type": "code",
   "execution_count": 69,
   "id": "a26893ad-a537-451d-94c9-6c39e21c5689",
   "metadata": {},
   "outputs": [
    {
     "data": {
      "text/plain": [
       "156"
      ]
     },
     "execution_count": 69,
     "metadata": {},
     "output_type": "execute_result"
    }
   ],
   "source": [
    "# can use parentheses to specify order\n",
    "(2+10) * (10+3)"
   ]
  },
  {
   "cell_type": "markdown",
   "id": "75ad5e71-09bd-4c09-aeff-f6464d7dcf65",
   "metadata": {},
   "source": [
    "## Variable Assignments\n",
    "\n",
    "Now that we've seen how to use numbers in Python as a calculator let's see how we can assign names and create variables.\n",
    "\n",
    "We use a single equals sign to assign labels to variables. Let's see a few examples of how we can do this."
   ]
  },
  {
   "cell_type": "code",
   "execution_count": 70,
   "id": "a3b4519f-0252-4410-92b9-717ee9b6a443",
   "metadata": {},
   "outputs": [
    {
     "name": "stdout",
     "output_type": "stream",
     "text": [
      "5\n"
     ]
    }
   ],
   "source": [
    "# Let's create an object called \"a\" and assign it number 5\n",
    "# variable can be used to store any data type\n",
    "# data type 1. integer 2.float 3.complex\n",
    "a = 5\n",
    "b = 7.5\n",
    "print(a)"
   ]
  },
  {
   "cell_type": "code",
   "execution_count": 71,
   "id": "c5f3ea89-d021-4e92-8157-d55322bcf54b",
   "metadata": {},
   "outputs": [
    {
     "data": {
      "text/plain": [
       "12.5"
      ]
     },
     "execution_count": 71,
     "metadata": {},
     "output_type": "execute_result"
    }
   ],
   "source": [
    "a+b"
   ]
  },
  {
   "cell_type": "code",
   "execution_count": 72,
   "id": "5ae9be8b-09e5-494d-b1ac-0493f4ec10f3",
   "metadata": {},
   "outputs": [
    {
     "data": {
      "text/plain": [
       "37.5"
      ]
     },
     "execution_count": 72,
     "metadata": {},
     "output_type": "execute_result"
    }
   ],
   "source": [
    "b*a"
   ]
  },
  {
   "cell_type": "code",
   "execution_count": 73,
   "id": "e6b83d95-a4a3-4763-9d4c-8d217cfc54e7",
   "metadata": {},
   "outputs": [
    {
     "data": {
      "text/plain": [
       "10"
      ]
     },
     "execution_count": 73,
     "metadata": {},
     "output_type": "execute_result"
    }
   ],
   "source": [
    "a*2"
   ]
  },
  {
   "cell_type": "code",
   "execution_count": 74,
   "id": "34c46b39-6ed7-4edf-903e-0efc42aeb318",
   "metadata": {},
   "outputs": [
    {
     "data": {
      "text/plain": [
       "1.5"
      ]
     },
     "execution_count": 74,
     "metadata": {},
     "output_type": "execute_result"
    }
   ],
   "source": [
    "b/a"
   ]
  },
  {
   "cell_type": "markdown",
   "id": "fb10f605-0d6b-4893-8412-5ca022f1b14f",
   "metadata": {},
   "source": [
    "Yes ! python allows you write over assigned variable names.We can also use variables themsleves when doing the reassignment. Here an example what i mean,"
   ]
  },
  {
   "cell_type": "code",
   "execution_count": 75,
   "id": "1b2d1e9a-42ad-4335-bf22-ccfcc5235112",
   "metadata": {},
   "outputs": [
    {
     "data": {
      "text/plain": [
       "5"
      ]
     },
     "execution_count": 75,
     "metadata": {},
     "output_type": "execute_result"
    }
   ],
   "source": [
    "# Check \n",
    "a"
   ]
  },
  {
   "cell_type": "code",
   "execution_count": 76,
   "id": "d42d82a2-cbaa-441d-b7b1-04029f1691cd",
   "metadata": {},
   "outputs": [],
   "source": [
    "# use a to redefine a\n",
    "a = a + a"
   ]
  },
  {
   "cell_type": "code",
   "execution_count": 77,
   "id": "d7db4902-e259-4ff6-840b-3a37432260bb",
   "metadata": {},
   "outputs": [
    {
     "data": {
      "text/plain": [
       "10"
      ]
     },
     "execution_count": 77,
     "metadata": {},
     "output_type": "execute_result"
    }
   ],
   "source": [
    "a"
   ]
  }
 ],
 "metadata": {
  "kernelspec": {
   "display_name": "Python 3",
   "language": "python",
   "name": "python3"
  },
  "language_info": {
   "codemirror_mode": {
    "name": "ipython",
    "version": 3
   },
   "file_extension": ".py",
   "mimetype": "text/x-python",
   "name": "python",
   "nbconvert_exporter": "python",
   "pygments_lexer": "ipython3",
   "version": "3.8.8"
  }
 },
 "nbformat": 4,
 "nbformat_minor": 5
}
