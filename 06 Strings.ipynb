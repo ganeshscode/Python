{
 "cells": [
  {
   "cell_type": "markdown",
   "id": "de203931-d841-4fdf-9fab-e6dea49f8ca3",
   "metadata": {},
   "source": [
    "# Strings\n",
    "\n",
    "Strings are used in Python to record text information, such as names. Strings in Python are actually a *sequence*, which basically means Python keeps track of every element in the string as a sequence. For example, Python understands the string \"hello' to be a **sequence of letters in a specific order**. This means we will be able to use indexing to grab particular letters (like the first letter, or the last letter).\n",
    "This idea of a sequence is an important one in Python and we will touch upon it later on in the future.\n",
    "\n",
    "In this lecture we'll learn about the following:\n",
    "\n",
    "    1.) Creating Strings\n",
    "    2.) Printing Strings\n",
    "    3.) String Indexing and Slicing\n",
    "    4.) String Properties\n",
    "    5.) String Methods\n",
    "    6.) Print Formatting\n",
    "    To create a string in Python you need to use either single quotes or double quotes. For example:"
   ]
  },
  {
   "cell_type": "code",
   "execution_count": 1,
   "id": "3dc0ed81-ad18-444b-8206-afcd19956ed2",
   "metadata": {},
   "outputs": [
    {
     "data": {
      "text/plain": [
       "'I am a string'"
      ]
     },
     "execution_count": 1,
     "metadata": {},
     "output_type": "execute_result"
    }
   ],
   "source": [
    "# single word\n",
    "'Hello'\n",
    "\"I am a string\""
   ]
  },
  {
   "cell_type": "code",
   "execution_count": 2,
   "id": "a30e4e41-171c-4d65-8658-f48eed5ef031",
   "metadata": {},
   "outputs": [],
   "source": [
    "# Entire phrase\n",
    "str_1 = 'This is also a string'\n",
    "str = 'This is also a string'"
   ]
  },
  {
   "cell_type": "code",
   "execution_count": 4,
   "id": "67d2daf1-7971-4eca-b41a-137a94286d20",
   "metadata": {},
   "outputs": [
    {
     "ename": "SyntaxError",
     "evalue": "invalid syntax (<ipython-input-4-5ca6ccf0eef7>, line 2)",
     "output_type": "error",
     "traceback": [
      "\u001b[1;36m  File \u001b[1;32m\"<ipython-input-4-5ca6ccf0eef7>\"\u001b[1;36m, line \u001b[1;32m2\u001b[0m\n\u001b[1;33m    'I'm using pen'\u001b[0m\n\u001b[1;37m       ^\u001b[0m\n\u001b[1;31mSyntaxError\u001b[0m\u001b[1;31m:\u001b[0m invalid syntax\n"
     ]
    }
   ],
   "source": [
    "#be careful with quotes\n",
    "'I'm using pen'"
   ]
  },
  {
   "cell_type": "markdown",
   "id": "1d7553d6-a8b2-45fc-9a22-6f1430ec35c7",
   "metadata": {},
   "source": [
    "The reason for the error above is because the single quote in <code>I'm</code> stopped the string. You can use combinations of double and single quotes to get the complete statement."
   ]
  },
  {
   "cell_type": "code",
   "execution_count": 5,
   "id": "b12c9c69-d1d0-42ef-86f4-8cec8cc44d75",
   "metadata": {},
   "outputs": [
    {
     "data": {
      "text/plain": [
       "\"I'm using pen\""
      ]
     },
     "execution_count": 5,
     "metadata": {},
     "output_type": "execute_result"
    }
   ],
   "source": [
    "\"I'm using pen\""
   ]
  },
  {
   "cell_type": "markdown",
   "id": "85561932-773a-499c-a3fd-b0b3bf3ce4f9",
   "metadata": {},
   "source": [
    "Using Jupyter notebook with just a string in a cell will automatically output strings, but the correct way to display strings in your output is by using a print function."
   ]
  },
  {
   "cell_type": "code",
   "execution_count": 6,
   "id": "ec7e8e08-755f-489a-a63d-7f456724870a",
   "metadata": {},
   "outputs": [
    {
     "name": "stdout",
     "output_type": "stream",
     "text": [
      "Ganu\n",
      "Manu\n"
     ]
    }
   ],
   "source": [
    "#To print multiple outputs we need to write print before it\n",
    "print('Ganu')\n",
    "print('Manu')"
   ]
  },
  {
   "cell_type": "code",
   "execution_count": 7,
   "id": "8d5d783b-1589-4a8c-bb21-368e67de2f9c",
   "metadata": {},
   "outputs": [
    {
     "name": "stdout",
     "output_type": "stream",
     "text": [
      "Digital Trainee\n",
      "Digital \n",
      " Trainee\n",
      "\n",
      "\n",
      "Pune\n"
     ]
    }
   ],
   "source": [
    "# \\n to start new line\n",
    "print('Digital Trainee')\n",
    "print('Digital \\n Trainee')\n",
    "print ('\\n')\n",
    "print ('Pune')"
   ]
  },
  {
   "cell_type": "code",
   "execution_count": 8,
   "id": "0abf0f6d-c855-4048-80ae-e8801d2cbc9e",
   "metadata": {},
   "outputs": [
    {
     "data": {
      "text/plain": [
       "6"
      ]
     },
     "execution_count": 8,
     "metadata": {},
     "output_type": "execute_result"
    }
   ],
   "source": [
    "len(\"Ganesh\")"
   ]
  },
  {
   "cell_type": "code",
   "execution_count": 9,
   "id": "f8b8d3d5-4987-4c1b-9559-55b55a3653f5",
   "metadata": {},
   "outputs": [
    {
     "data": {
      "text/plain": [
       "12"
      ]
     },
     "execution_count": 9,
     "metadata": {},
     "output_type": "execute_result"
    }
   ],
   "source": [
    "len('GaneshGavali')"
   ]
  },
  {
   "cell_type": "code",
   "execution_count": 10,
   "id": "b02644c1-4345-4fd0-9676-a7a30c029d8a",
   "metadata": {},
   "outputs": [
    {
     "data": {
      "text/plain": [
       "13"
      ]
     },
     "execution_count": 10,
     "metadata": {},
     "output_type": "execute_result"
    }
   ],
   "source": [
    "len('Ganesh Gavali')"
   ]
  },
  {
   "cell_type": "markdown",
   "id": "0600d01a-fd7e-416d-9b49-25f0b81a3337",
   "metadata": {},
   "source": [
    "In above example we can calculate length, but also space between two words is counted."
   ]
  },
  {
   "cell_type": "code",
   "execution_count": 11,
   "id": "b51768aa-a132-4a4a-bb91-1dc468a808c3",
   "metadata": {},
   "outputs": [
    {
     "data": {
      "text/plain": [
       "\"Forward raw_input to frontends\\n\\n        Raises\\n        ------\\n        StdinNotImplentedError if active frontend doesn't support stdin.\\n        \""
      ]
     },
     "execution_count": 11,
     "metadata": {},
     "output_type": "execute_result"
    }
   ],
   "source": [
    "#To get information\n",
    "input.__doc__"
   ]
  },
  {
   "cell_type": "code",
   "execution_count": 13,
   "id": "afdafa97-1c51-4a7d-8996-389efdc49a36",
   "metadata": {},
   "outputs": [
    {
     "name": "stdout",
     "output_type": "stream",
     "text": [
      "['__abs__', '__add__', '__and__', '__bool__', '__ceil__', '__class__', '__delattr__', '__dir__', '__divmod__', '__doc__', '__eq__', '__float__', '__floor__', '__floordiv__', '__format__', '__ge__', '__getattribute__', '__getnewargs__', '__gt__', '__hash__', '__index__', '__init__', '__init_subclass__', '__int__', '__invert__', '__le__', '__lshift__', '__lt__', '__mod__', '__mul__', '__ne__', '__neg__', '__new__', '__or__', '__pos__', '__pow__', '__radd__', '__rand__', '__rdivmod__', '__reduce__', '__reduce_ex__', '__repr__', '__rfloordiv__', '__rlshift__', '__rmod__', '__rmul__', '__ror__', '__round__', '__rpow__', '__rrshift__', '__rshift__', '__rsub__', '__rtruediv__', '__rxor__', '__setattr__', '__sizeof__', '__str__', '__sub__', '__subclasshook__', '__truediv__', '__trunc__', '__xor__', 'as_integer_ratio', 'bit_length', 'conjugate', 'denominator', 'from_bytes', 'imag', 'numerator', 'real', 'to_bytes']\n"
     ]
    }
   ],
   "source": [
    "#dir()= Function\n",
    "# .__doc__= Method\n",
    "print(dir(int))"
   ]
  },
  {
   "cell_type": "code",
   "execution_count": 14,
   "id": "705a4fd1-0327-4bbc-82e5-48617e583122",
   "metadata": {},
   "outputs": [
    {
     "data": {
      "text/plain": [
       "\"str(object='') -> str\\nstr(bytes_or_buffer[, encoding[, errors]]) -> str\\n\\nCreate a new string object from the given object. If encoding or\\nerrors is specified, then the object must expose a data buffer\\nthat will be decoded using the given encoding and error handler.\\nOtherwise, returns the result of object.__str__() (if defined)\\nor repr(object).\\nencoding defaults to sys.getdefaultencoding().\\nerrors defaults to 'strict'.\""
      ]
     },
     "execution_count": 14,
     "metadata": {},
     "output_type": "execute_result"
    }
   ],
   "source": [
    "#information about string\n",
    "str.__doc__"
   ]
  },
  {
   "cell_type": "markdown",
   "id": "405b4351-3b97-4da4-8f99-56c9afd36ee9",
   "metadata": {},
   "source": [
    "## String Indexing\n",
    "We know strings are a sequence, which means Python can use indexes to call parts of the sequence. Let's learn how this works.\n",
    "\n",
    "In Python, we use square brackets <code>[]</code> after an object to call its index. We should also note that indexing starts at 0 for Python. Let's create a new object called <code>s</code> and then walk through a few examples of indexing."
   ]
  },
  {
   "cell_type": "code",
   "execution_count": 15,
   "id": "a8df2048-c622-445f-80ac-23ff82a6ff35",
   "metadata": {},
   "outputs": [],
   "source": [
    "s = 'Hello world'"
   ]
  },
  {
   "cell_type": "code",
   "execution_count": 16,
   "id": "cbfbd4e1-ab9e-4bdc-93a2-caeeb1da1b2b",
   "metadata": {},
   "outputs": [
    {
     "data": {
      "text/plain": [
       "'Hello world'"
      ]
     },
     "execution_count": 16,
     "metadata": {},
     "output_type": "execute_result"
    }
   ],
   "source": [
    "s"
   ]
  },
  {
   "cell_type": "code",
   "execution_count": 17,
   "id": "2a856c5d-10a5-4ea4-95bd-dbd6e073a98d",
   "metadata": {},
   "outputs": [
    {
     "data": {
      "text/plain": [
       "'H'"
      ]
     },
     "execution_count": 17,
     "metadata": {},
     "output_type": "execute_result"
    }
   ],
   "source": [
    "s[0]"
   ]
  },
  {
   "cell_type": "code",
   "execution_count": 18,
   "id": "d5943918-6222-4674-8fbf-7df2c67c4d39",
   "metadata": {},
   "outputs": [
    {
     "data": {
      "text/plain": [
       "'l'"
      ]
     },
     "execution_count": 18,
     "metadata": {},
     "output_type": "execute_result"
    }
   ],
   "source": [
    "s[9]"
   ]
  },
  {
   "cell_type": "code",
   "execution_count": 19,
   "id": "451aa19e-4ec3-4bb3-97e8-c47b6ba300e1",
   "metadata": {},
   "outputs": [
    {
     "data": {
      "text/plain": [
       "' '"
      ]
     },
     "execution_count": 19,
     "metadata": {},
     "output_type": "execute_result"
    }
   ],
   "source": [
    "s[5]\n",
    "# Space between two numbers is also counted"
   ]
  },
  {
   "cell_type": "code",
   "execution_count": 20,
   "id": "f269a88e-cef1-4442-84ed-c5ce98736cd1",
   "metadata": {},
   "outputs": [
    {
     "data": {
      "text/plain": [
       "'Hello world'"
      ]
     },
     "execution_count": 20,
     "metadata": {},
     "output_type": "execute_result"
    }
   ],
   "source": [
    "s[0:]"
   ]
  },
  {
   "cell_type": "markdown",
   "id": "c68fde08-0986-4dc1-a34d-59baa72d4faa",
   "metadata": {},
   "source": [
    "We can use a <code>:</code> to perform *slicing* which grabs everything up to a designated point. For example:"
   ]
  },
  {
   "cell_type": "code",
   "execution_count": 21,
   "id": "e17f7269-8fc0-4193-b9f5-44cd50e91896",
   "metadata": {},
   "outputs": [
    {
     "data": {
      "text/plain": [
       "'Hel'"
      ]
     },
     "execution_count": 21,
     "metadata": {},
     "output_type": "execute_result"
    }
   ],
   "source": [
    "s[:3]"
   ]
  },
  {
   "cell_type": "code",
   "execution_count": 22,
   "id": "70d6d466-e973-4fe7-85ea-9ddcee751541",
   "metadata": {},
   "outputs": [
    {
     "data": {
      "text/plain": [
       "' world'"
      ]
     },
     "execution_count": 22,
     "metadata": {},
     "output_type": "execute_result"
    }
   ],
   "source": [
    "s[5:]"
   ]
  },
  {
   "cell_type": "code",
   "execution_count": 23,
   "id": "7da885df-ab10-441d-9c8f-4d88a9930716",
   "metadata": {},
   "outputs": [
    {
     "data": {
      "text/plain": [
       "'Hello wo'"
      ]
     },
     "execution_count": 23,
     "metadata": {},
     "output_type": "execute_result"
    }
   ],
   "source": [
    "s[:8]"
   ]
  },
  {
   "cell_type": "code",
   "execution_count": 24,
   "id": "b3377caf-ba19-4f28-9b45-6ca3db164e0e",
   "metadata": {},
   "outputs": [
    {
     "data": {
      "text/plain": [
       "'H'"
      ]
     },
     "execution_count": 24,
     "metadata": {},
     "output_type": "execute_result"
    }
   ],
   "source": [
    "s[0]"
   ]
  },
  {
   "cell_type": "code",
   "execution_count": 25,
   "id": "a32473a5-20a5-4a32-a0c7-a204f17cc760",
   "metadata": {},
   "outputs": [
    {
     "data": {
      "text/plain": [
       "11"
      ]
     },
     "execution_count": 25,
     "metadata": {},
     "output_type": "execute_result"
    }
   ],
   "source": [
    "len(s)"
   ]
  },
  {
   "cell_type": "code",
   "execution_count": 26,
   "id": "b8184f04-f284-4339-8afc-f90855dc4e5e",
   "metadata": {},
   "outputs": [
    {
     "data": {
      "text/plain": [
       "'d'"
      ]
     },
     "execution_count": 26,
     "metadata": {},
     "output_type": "execute_result"
    }
   ],
   "source": [
    "s[10]"
   ]
  },
  {
   "cell_type": "code",
   "execution_count": 27,
   "id": "deb9bb5c-d7fc-4b80-8a7b-084503462e52",
   "metadata": {},
   "outputs": [
    {
     "data": {
      "text/plain": [
       "'Hello w'"
      ]
     },
     "execution_count": 27,
     "metadata": {},
     "output_type": "execute_result"
    }
   ],
   "source": [
    "s[:-4]"
   ]
  },
  {
   "cell_type": "markdown",
   "id": "82762c59-8c71-41e0-aac3-a17fd7e4adcb",
   "metadata": {},
   "source": [
    "We can also use index and slice notation to grab elements of a sequence by a specified step size (the default is 1). For instance we can use two colons in a row and then a number specifying the frequency to grab elements. For example:"
   ]
  },
  {
   "cell_type": "code",
   "execution_count": 28,
   "id": "31c49a17-71fc-49a2-bdfe-19a9222b278e",
   "metadata": {},
   "outputs": [
    {
     "data": {
      "text/plain": [
       "'Hello world'"
      ]
     },
     "execution_count": 28,
     "metadata": {},
     "output_type": "execute_result"
    }
   ],
   "source": [
    "s[:]"
   ]
  },
  {
   "cell_type": "code",
   "execution_count": 29,
   "id": "325f20ba-5e87-429f-8029-c097b541a664",
   "metadata": {},
   "outputs": [
    {
     "data": {
      "text/plain": [
       "'d'"
      ]
     },
     "execution_count": 29,
     "metadata": {},
     "output_type": "execute_result"
    }
   ],
   "source": [
    "s[-1]"
   ]
  },
  {
   "cell_type": "code",
   "execution_count": 30,
   "id": "bbd19c0f-878f-4911-b92a-110c92f51f3c",
   "metadata": {},
   "outputs": [
    {
     "data": {
      "text/plain": [
       "'Hello worl'"
      ]
     },
     "execution_count": 30,
     "metadata": {},
     "output_type": "execute_result"
    }
   ],
   "source": [
    "# Here it uses n-1 rule, -1-1 = -2, here n=1\n",
    "s[:-1]"
   ]
  },
  {
   "cell_type": "code",
   "execution_count": 31,
   "id": "09ff5ae2-0117-42c6-9fb1-d53953e38532",
   "metadata": {},
   "outputs": [
    {
     "data": {
      "text/plain": [
       "'dlrow olleH'"
      ]
     },
     "execution_count": 31,
     "metadata": {},
     "output_type": "execute_result"
    }
   ],
   "source": [
    "# We can use ':' to print the string in backward manner\n",
    "s[::-1]"
   ]
  },
  {
   "cell_type": "code",
   "execution_count": 32,
   "id": "803e1b18-8c25-40bc-a978-bc14daa44ff9",
   "metadata": {},
   "outputs": [
    {
     "data": {
      "text/plain": [
       "'dwl'"
      ]
     },
     "execution_count": 32,
     "metadata": {},
     "output_type": "execute_result"
    }
   ],
   "source": [
    "s[::-4]"
   ]
  },
  {
   "cell_type": "code",
   "execution_count": 34,
   "id": "3d6c63e6-2cec-4744-b734-08d06b7ea517",
   "metadata": {},
   "outputs": [
    {
     "data": {
      "text/plain": [
       "'low'"
      ]
     },
     "execution_count": 34,
     "metadata": {},
     "output_type": "execute_result"
    }
   ],
   "source": [
    "###String [start:stop:step size]\n",
    "s[2:7:2]\n",
    "# it will start from index 2 and stop at 7, it will print every second element."
   ]
  },
  {
   "cell_type": "code",
   "execution_count": 35,
   "id": "ddbd4ab2-611c-412b-9cbb-64dd27b3f9d1",
   "metadata": {},
   "outputs": [
    {
     "data": {
      "text/plain": [
       "'Hlowrd'"
      ]
     },
     "execution_count": 35,
     "metadata": {},
     "output_type": "execute_result"
    }
   ],
   "source": [
    "s[0:11:2]"
   ]
  },
  {
   "cell_type": "markdown",
   "id": "f168065e-608f-4a56-a019-d2713bde006e",
   "metadata": {},
   "source": [
    "It's important to note that strings have an important property known as *immutability*. This means that once a string is created, the elements within it can not be changed or replaced. For example:"
   ]
  },
  {
   "cell_type": "code",
   "execution_count": 36,
   "id": "9b9408b0-5457-4ce8-9820-1663af6d1005",
   "metadata": {},
   "outputs": [
    {
     "data": {
      "text/plain": [
       "'Hello worldConcatenate me!'"
      ]
     },
     "execution_count": 36,
     "metadata": {},
     "output_type": "execute_result"
    }
   ],
   "source": [
    "#concatenate string (to add new string to previous string(temperarily for present step))\n",
    "s + ('Concatenate me!')"
   ]
  },
  {
   "cell_type": "code",
   "execution_count": 37,
   "id": "6329c499-42d1-4587-bab1-b83fb376d8ff",
   "metadata": {},
   "outputs": [
    {
     "data": {
      "text/plain": [
       "'Hello world CONCATENATE ME!'"
      ]
     },
     "execution_count": 37,
     "metadata": {},
     "output_type": "execute_result"
    }
   ],
   "source": [
    "s + ' CONCATENATE ME!'"
   ]
  },
  {
   "cell_type": "code",
   "execution_count": 38,
   "id": "f05ff230-5a25-4b9b-8177-0ef8d249c804",
   "metadata": {},
   "outputs": [
    {
     "data": {
      "text/plain": [
       "'Hello world Concatenate me!'"
      ]
     },
     "execution_count": 38,
     "metadata": {},
     "output_type": "execute_result"
    }
   ],
   "source": [
    "# Reassignment\n",
    "s = s + ' Concatenate me!'\n",
    "s"
   ]
  },
  {
   "cell_type": "code",
   "execution_count": 39,
   "id": "8b928b8d-bd75-41c3-adda-fd91945d7421",
   "metadata": {},
   "outputs": [
    {
     "name": "stdout",
     "output_type": "stream",
     "text": [
      "zzzzzzzzzz\n"
     ]
    }
   ],
   "source": [
    "letter ='z'\n",
    "print(letter * 10)"
   ]
  },
  {
   "cell_type": "markdown",
   "id": "f28e3d1a-9e9a-42f5-8d5d-ab2bbb05c77b",
   "metadata": {},
   "source": [
    "## Basic Built-in String methods\n",
    "\n",
    "Objects in Python usually have built-in methods. These methods are functions inside the object (we will learn about these in much more depth later) that can perform actions or commands on the object itself.\n",
    "\n",
    "We call methods with a period and then the method name. Methods are in the form:"
   ]
  },
  {
   "cell_type": "code",
   "execution_count": 34,
   "id": "df0b2a66-2a0b-4dc5-b996-ae1529ad4fa9",
   "metadata": {},
   "outputs": [
    {
     "data": {
      "text/plain": [
       "'HELLO WORLD'"
      ]
     },
     "execution_count": 34,
     "metadata": {},
     "output_type": "execute_result"
    }
   ],
   "source": [
    "s.upper()"
   ]
  },
  {
   "cell_type": "code",
   "execution_count": 35,
   "id": "ee8d663d-5ef8-4d49-b1bc-c05c49331148",
   "metadata": {},
   "outputs": [
    {
     "data": {
      "text/plain": [
       "'hello world'"
      ]
     },
     "execution_count": 35,
     "metadata": {},
     "output_type": "execute_result"
    }
   ],
   "source": [
    "s.lower()"
   ]
  },
  {
   "cell_type": "markdown",
   "id": "27e8520f-52ac-447f-bb06-66339b91e538",
   "metadata": {},
   "source": [
    "### object.method(parameters)\n",
    "\n",
    "Where parameters are extra arguments we can pass into the method. Don't worry if the details don't make 100% sense right now. Later on we will be creating our own objects and functions!\n",
    "\n",
    "Here are some examples of built-in methods in strings:"
   ]
  },
  {
   "cell_type": "code",
   "execution_count": 50,
   "id": "2b624d3c-db2c-48e4-ad05-88011570a911",
   "metadata": {},
   "outputs": [],
   "source": [
    "g=\"Rajashri gavali\""
   ]
  },
  {
   "cell_type": "code",
   "execution_count": 51,
   "id": "20a6e436-5157-4a2e-9ab6-bda9aa80ec69",
   "metadata": {},
   "outputs": [
    {
     "data": {
      "text/plain": [
       "15"
      ]
     },
     "execution_count": 51,
     "metadata": {},
     "output_type": "execute_result"
    }
   ],
   "source": [
    "len(g)"
   ]
  },
  {
   "cell_type": "code",
   "execution_count": 52,
   "id": "289bf8cc-c60e-46f1-bbc7-1acf570fdfd7",
   "metadata": {},
   "outputs": [
    {
     "name": "stdout",
     "output_type": "stream",
     "text": [
      "R\n"
     ]
    }
   ],
   "source": [
    "print(g[0])"
   ]
  },
  {
   "cell_type": "code",
   "execution_count": 53,
   "id": "99ed0fc4-c6fe-41db-84c5-d85055f92958",
   "metadata": {},
   "outputs": [
    {
     "data": {
      "text/plain": [
       "'a'"
      ]
     },
     "execution_count": 53,
     "metadata": {},
     "output_type": "execute_result"
    }
   ],
   "source": [
    "(g[1])"
   ]
  },
  {
   "cell_type": "code",
   "execution_count": 54,
   "id": "4587ff01-b03d-4257-ad46-c6aa8d9a34bc",
   "metadata": {},
   "outputs": [
    {
     "data": {
      "text/plain": [
       "'a'"
      ]
     },
     "execution_count": 54,
     "metadata": {},
     "output_type": "execute_result"
    }
   ],
   "source": [
    "g[1]"
   ]
  },
  {
   "cell_type": "code",
   "execution_count": 55,
   "id": "dd07b9f5-1056-497a-8ff3-0ea1cf9902c1",
   "metadata": {},
   "outputs": [
    {
     "data": {
      "text/plain": [
       "'hri gavali'"
      ]
     },
     "execution_count": 55,
     "metadata": {},
     "output_type": "execute_result"
    }
   ],
   "source": [
    "g[5:]"
   ]
  },
  {
   "cell_type": "code",
   "execution_count": 56,
   "id": "1ecdd191-f076-4659-a360-179aa991d615",
   "metadata": {},
   "outputs": [
    {
     "data": {
      "text/plain": [
       "'Rajas'"
      ]
     },
     "execution_count": 56,
     "metadata": {},
     "output_type": "execute_result"
    }
   ],
   "source": [
    "g[:5]"
   ]
  },
  {
   "cell_type": "code",
   "execution_count": 57,
   "id": "3ff6b3d4-7f3d-460b-893b-029e320a9938",
   "metadata": {},
   "outputs": [
    {
     "data": {
      "text/plain": [
       "'ilavag irhsajaR'"
      ]
     },
     "execution_count": 57,
     "metadata": {},
     "output_type": "execute_result"
    }
   ],
   "source": [
    "g[::-1]"
   ]
  },
  {
   "cell_type": "code",
   "execution_count": 58,
   "id": "2fa8633b-e9a9-48ec-959a-1b5432fbe8b6",
   "metadata": {},
   "outputs": [
    {
     "data": {
      "text/plain": [
       "'Rjsr '"
      ]
     },
     "execution_count": 58,
     "metadata": {},
     "output_type": "execute_result"
    }
   ],
   "source": [
    "g[0:10:2]"
   ]
  },
  {
   "cell_type": "code",
   "execution_count": 59,
   "id": "d0ef1a97-5f2e-40d2-8e01-d9b925523e3c",
   "metadata": {},
   "outputs": [
    {
     "data": {
      "text/plain": [
       "'RAJASHRI GAVALI'"
      ]
     },
     "execution_count": 59,
     "metadata": {},
     "output_type": "execute_result"
    }
   ],
   "source": [
    "g.upper()"
   ]
  },
  {
   "cell_type": "code",
   "execution_count": 60,
   "id": "b9ad2cec-6b39-4f02-9ea9-2e72431acd12",
   "metadata": {},
   "outputs": [
    {
     "data": {
      "text/plain": [
       "'rajashri gavali'"
      ]
     },
     "execution_count": 60,
     "metadata": {},
     "output_type": "execute_result"
    }
   ],
   "source": [
    "g.lower()"
   ]
  },
  {
   "cell_type": "code",
   "execution_count": 61,
   "id": "18d4f91e-d9aa-4734-a029-8a5d1de2e843",
   "metadata": {},
   "outputs": [
    {
     "data": {
      "text/plain": [
       "'Rajashri gavali Sudam'"
      ]
     },
     "execution_count": 61,
     "metadata": {},
     "output_type": "execute_result"
    }
   ],
   "source": [
    "g + \" Sudam\""
   ]
  },
  {
   "cell_type": "code",
   "execution_count": 62,
   "id": "70797fd7-461b-4457-a261-a309f9758f76",
   "metadata": {},
   "outputs": [],
   "source": [
    "g = g + \"  Patas\""
   ]
  },
  {
   "cell_type": "code",
   "execution_count": 63,
   "id": "83c7f7df-37c9-4f85-baf1-3e12e40c2970",
   "metadata": {},
   "outputs": [
    {
     "data": {
      "text/plain": [
       "'Rajashri gavali  Patas'"
      ]
     },
     "execution_count": 63,
     "metadata": {},
     "output_type": "execute_result"
    }
   ],
   "source": [
    "g"
   ]
  },
  {
   "cell_type": "code",
   "execution_count": null,
   "id": "5c44a2d5-3cbc-4656-9a62-dd84d74845da",
   "metadata": {},
   "outputs": [],
   "source": []
  }
 ],
 "metadata": {
  "kernelspec": {
   "display_name": "Python 3",
   "language": "python",
   "name": "python3"
  },
  "language_info": {
   "codemirror_mode": {
    "name": "ipython",
    "version": 3
   },
   "file_extension": ".py",
   "mimetype": "text/x-python",
   "name": "python",
   "nbconvert_exporter": "python",
   "pygments_lexer": "ipython3",
   "version": "3.8.8"
  }
 },
 "nbformat": 4,
 "nbformat_minor": 5
}
