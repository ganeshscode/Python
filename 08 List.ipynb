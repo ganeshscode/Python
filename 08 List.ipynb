{
 "cells": [
  {
   "cell_type": "markdown",
   "id": "96b20486-639a-41cb-9561-a5ce0e0dd8d7",
   "metadata": {},
   "source": [
    "# Lists\n",
    "\n",
    "Earlier when discussing strings we introduced the concept of a *sequence* in Python. Lists can be thought of the most general version of a *sequence* in Python. Unlike strings, they are mutable, meaning the elements inside a list can be changed!\n",
    "In this section we will learn about:\n",
    "    \n",
    "    1.) Creating lists\n",
    "    2.) Indexing and Slicing Lists\n",
    "    3.) Basic List Methods\n",
    "    4.) Nesting Lists\n",
    "   \n",
    "\n",
    "Lists are constructed with brackets [] and commas separating every element in the list.\n",
    "\n",
    "Let's go ahead and see how we can construct lists!"
   ]
  },
  {
   "cell_type": "code",
   "execution_count": 1,
   "id": "da37209c-75f2-4fe9-a0a7-d055bf1095d3",
   "metadata": {},
   "outputs": [],
   "source": [
    "# Assign a list to an variable named my_list\n",
    "my_list = [1,2.7,3,'string',(2.7,'in the list'),'out of tuple', 0.5]"
   ]
  },
  {
   "cell_type": "markdown",
   "id": "474dd876-2151-45ea-9120-e4561aeebd34",
   "metadata": {},
   "source": [
    "We just created a list of integers, but lists can actually hold different object types. For example"
   ]
  },
  {
   "cell_type": "code",
   "execution_count": 2,
   "id": "03f3f41a-06e8-42e8-b30c-1958aed79fce",
   "metadata": {},
   "outputs": [
    {
     "data": {
      "text/plain": [
       "'A string'"
      ]
     },
     "execution_count": 2,
     "metadata": {},
     "output_type": "execute_result"
    }
   ],
   "source": [
    "# List indexing\n",
    "my_list = ['A string',23,100.232,''omni'']\n",
    "my_list[0]"
   ]
  },
  {
   "cell_type": "code",
   "execution_count": 5,
   "id": "d230e0a4-04e1-46e8-962a-4b203ebc9f62",
   "metadata": {},
   "outputs": [
    {
     "data": {
      "text/plain": [
       "'s'"
      ]
     },
     "execution_count": 5,
     "metadata": {},
     "output_type": "execute_result"
    }
   ],
   "source": [
    "my_list[0][2]"
   ]
  },
  {
   "cell_type": "code",
   "execution_count": 6,
   "id": "956e93d0-78cb-4636-9cec-beb5e9f71451",
   "metadata": {},
   "outputs": [
    {
     "data": {
      "text/plain": [
       "'omni'"
      ]
     },
     "execution_count": 6,
     "metadata": {},
     "output_type": "execute_result"
    }
   ],
   "source": [
    "my_list[3]"
   ]
  },
  {
   "cell_type": "code",
   "execution_count": 7,
   "id": "c28aa619-2b99-4bd9-bc1b-a6563adbf7dd",
   "metadata": {},
   "outputs": [
    {
     "data": {
      "text/plain": [
       "'m'"
      ]
     },
     "execution_count": 7,
     "metadata": {},
     "output_type": "execute_result"
    }
   ],
   "source": [
    "my_list[3][1]"
   ]
  },
  {
   "cell_type": "code",
   "execution_count": 10,
   "id": "5d466ee9-f575-4698-a759-126099469c14",
   "metadata": {},
   "outputs": [
    {
     "data": {
      "text/plain": [
       "3"
      ]
     },
     "execution_count": 10,
     "metadata": {},
     "output_type": "execute_result"
    }
   ],
   "source": [
    "my_list.index('omni')"
   ]
  },
  {
   "cell_type": "code",
   "execution_count": 11,
   "id": "61d8899d-4340-4dcc-9d01-03b740665fab",
   "metadata": {},
   "outputs": [
    {
     "data": {
      "text/plain": [
       "4"
      ]
     },
     "execution_count": 11,
     "metadata": {},
     "output_type": "execute_result"
    }
   ],
   "source": [
    "len(my_list)"
   ]
  },
  {
   "cell_type": "markdown",
   "id": "3271ea33-350e-4150-9792-8ec1b3f647b4",
   "metadata": {},
   "source": [
    "### Indexing and Slicing\n",
    "Indexing and slicing work just like in strings. Let's make a new list to remind ourselves of how this works:"
   ]
  },
  {
   "cell_type": "code",
   "execution_count": 27,
   "id": "5c280d25-3620-4393-81bd-43abdf066c63",
   "metadata": {},
   "outputs": [],
   "source": [
    "my_list = ['one','two','three',4,5]"
   ]
  },
  {
   "cell_type": "code",
   "execution_count": 13,
   "id": "db72dd0b-7956-4070-bca5-55a836d85fc0",
   "metadata": {},
   "outputs": [
    {
     "data": {
      "text/plain": [
       "'one'"
      ]
     },
     "execution_count": 13,
     "metadata": {},
     "output_type": "execute_result"
    }
   ],
   "source": [
    "# Grab element at index 0\n",
    "my_list[0]"
   ]
  },
  {
   "cell_type": "code",
   "execution_count": 15,
   "id": "42887936-8e08-44d6-b190-594f09fc89a6",
   "metadata": {},
   "outputs": [
    {
     "data": {
      "text/plain": [
       "[5, 4, 'three', 'two', 'one']"
      ]
     },
     "execution_count": 15,
     "metadata": {},
     "output_type": "execute_result"
    }
   ],
   "source": [
    "# Grab index 1 and everything past it\n",
    "my_list[::-1]"
   ]
  },
  {
   "cell_type": "code",
   "execution_count": 12,
   "id": "913c5dea-6228-419e-90b5-843eee5bdea2",
   "metadata": {},
   "outputs": [
    {
     "data": {
      "text/plain": [
       "['one', 'two', 'three']"
      ]
     },
     "execution_count": 12,
     "metadata": {},
     "output_type": "execute_result"
    }
   ],
   "source": [
    "# Grab everything Up to index 3\n",
    "my_list[:3]"
   ]
  },
  {
   "cell_type": "markdown",
   "id": "dbff7a8b-6e9d-49bf-9833-6323abcbe4f0",
   "metadata": {},
   "source": [
    "We can also use + to concatenate lists, just like we did for strings. "
   ]
  },
  {
   "cell_type": "code",
   "execution_count": 26,
   "id": "0ec6ec5a-8849-4a10-b089-d1856310594e",
   "metadata": {},
   "outputs": [
    {
     "data": {
      "text/plain": [
       "['one',\n",
       " 'two',\n",
       " 'three',\n",
       " 'i am new',\n",
       " 5,\n",
       " 'add new item permanentely',\n",
       " 'new item',\n",
       " 12,\n",
       " 16.8]"
      ]
     },
     "execution_count": 26,
     "metadata": {},
     "output_type": "execute_result"
    }
   ],
   "source": [
    "my_list + ['new item', 12, 16.8]"
   ]
  },
  {
   "cell_type": "markdown",
   "id": "8b159962-334c-4292-b20b-2c4b97ca1b6c",
   "metadata": {},
   "source": [
    "Note: This doesn't actually change the original list"
   ]
  },
  {
   "cell_type": "code",
   "execution_count": 17,
   "id": "4a344e45-c18c-4b5f-957d-32133c07b0e7",
   "metadata": {},
   "outputs": [
    {
     "data": {
      "text/plain": [
       "['one', 'two', 'three', 4, 5]"
      ]
     },
     "execution_count": 17,
     "metadata": {},
     "output_type": "execute_result"
    }
   ],
   "source": [
    "my_list"
   ]
  },
  {
   "cell_type": "code",
   "execution_count": 18,
   "id": "41e4c9ae-5eee-4017-a03c-9c8da7f02c72",
   "metadata": {},
   "outputs": [],
   "source": [
    "# Reassign\n",
    "my_list = my_list + ['add new item permanentely']"
   ]
  },
  {
   "cell_type": "code",
   "execution_count": 19,
   "id": "ffb76453-975d-4a61-b77c-1155af4f9e1f",
   "metadata": {},
   "outputs": [
    {
     "data": {
      "text/plain": [
       "['one', 'two', 'three', 4, 5, 'add new item permanentely']"
      ]
     },
     "execution_count": 19,
     "metadata": {},
     "output_type": "execute_result"
    }
   ],
   "source": [
    "my_list"
   ]
  },
  {
   "cell_type": "markdown",
   "id": "64f01327-0b31-49dd-8ec0-6dfaba90a2e6",
   "metadata": {},
   "source": [
    "We can also use the * for a duplication method similar to strings:"
   ]
  },
  {
   "cell_type": "code",
   "execution_count": 23,
   "id": "4908b7aa-f888-45ce-85b3-d15c7e601cac",
   "metadata": {},
   "outputs": [
    {
     "data": {
      "text/plain": [
       "['one',\n",
       " 'two',\n",
       " 'three',\n",
       " 4,\n",
       " 5,\n",
       " 'add new item permanentely',\n",
       " 'one',\n",
       " 'two',\n",
       " 'three',\n",
       " 4,\n",
       " 5,\n",
       " 'add new item permanentely']"
      ]
     },
     "execution_count": 23,
     "metadata": {},
     "output_type": "execute_result"
    }
   ],
   "source": [
    "# Make the list double\n",
    "my_list * 2"
   ]
  },
  {
   "cell_type": "code",
   "execution_count": 21,
   "id": "8ff11327-2640-46f0-89ee-ccc039b642ee",
   "metadata": {},
   "outputs": [
    {
     "ename": "TypeError",
     "evalue": "can't multiply sequence by non-int of type 'list'",
     "output_type": "error",
     "traceback": [
      "\u001b[1;31m---------------------------------------------------------------------------\u001b[0m",
      "\u001b[1;31mTypeError\u001b[0m                                 Traceback (most recent call last)",
      "\u001b[1;32m<ipython-input-21-622db78befed>\u001b[0m in \u001b[0;36m<module>\u001b[1;34m\u001b[0m\n\u001b[0;32m      1\u001b[0m \u001b[1;31m# Multiplication can be done with numbers only\u001b[0m\u001b[1;33m\u001b[0m\u001b[1;33m\u001b[0m\u001b[1;33m\u001b[0m\u001b[0m\n\u001b[1;32m----> 2\u001b[1;33m \u001b[0mmy_list\u001b[0m \u001b[1;33m*\u001b[0m \u001b[0mmy_list\u001b[0m\u001b[1;33m\u001b[0m\u001b[1;33m\u001b[0m\u001b[0m\n\u001b[0m",
      "\u001b[1;31mTypeError\u001b[0m: can't multiply sequence by non-int of type 'list'"
     ]
    }
   ],
   "source": [
    "# Multiplication can be done with numbers only\n",
    "my_list * my_list"
   ]
  },
  {
   "cell_type": "code",
   "execution_count": 19,
   "id": "d31e8b23-b188-4d3e-a0b6-6a3f7e632dab",
   "metadata": {},
   "outputs": [
    {
     "ename": "TypeError",
     "evalue": "can't multiply sequence by non-int of type 'str'",
     "output_type": "error",
     "traceback": [
      "\u001b[1;31m---------------------------------------------------------------------------\u001b[0m",
      "\u001b[1;31mTypeError\u001b[0m                                 Traceback (most recent call last)",
      "\u001b[1;32m<ipython-input-19-d4ba4faa38bc>\u001b[0m in \u001b[0;36m<module>\u001b[1;34m\u001b[0m\n\u001b[0;32m      1\u001b[0m \u001b[0ms\u001b[0m \u001b[1;33m=\u001b[0m \u001b[1;34m'python'\u001b[0m\u001b[1;33m\u001b[0m\u001b[1;33m\u001b[0m\u001b[0m\n\u001b[1;32m----> 2\u001b[1;33m \u001b[0ms\u001b[0m\u001b[1;33m*\u001b[0m\u001b[0ms\u001b[0m\u001b[1;33m\u001b[0m\u001b[1;33m\u001b[0m\u001b[0m\n\u001b[0m",
      "\u001b[1;31mTypeError\u001b[0m: can't multiply sequence by non-int of type 'str'"
     ]
    }
   ],
   "source": [
    "s = 'python'\n",
    "s*s"
   ]
  },
  {
   "cell_type": "code",
   "execution_count": 20,
   "id": "c049be6b-8e45-447c-850f-db797e3aaa88",
   "metadata": {},
   "outputs": [
    {
     "data": {
      "text/plain": [
       "'pythonpython'"
      ]
     },
     "execution_count": 20,
     "metadata": {},
     "output_type": "execute_result"
    }
   ],
   "source": [
    "s * 2"
   ]
  },
  {
   "cell_type": "code",
   "execution_count": 28,
   "id": "7cf80033-f471-4241-a14c-b8f0ec2aeea9",
   "metadata": {},
   "outputs": [],
   "source": [
    "# It will replace the value of 2nd index with provided value\n",
    "\n",
    "my_list[3] = 'i am new'"
   ]
  },
  {
   "cell_type": "code",
   "execution_count": 29,
   "id": "127b1abc-f57a-4930-b009-41badf7a70f2",
   "metadata": {},
   "outputs": [
    {
     "data": {
      "text/plain": [
       "['one', 'two', 'three', 'i am new', 5]"
      ]
     },
     "execution_count": 29,
     "metadata": {},
     "output_type": "execute_result"
    }
   ],
   "source": [
    "my_list"
   ]
  },
  {
   "cell_type": "markdown",
   "id": "e8e00954-ae6d-414a-b65c-b081c032237f",
   "metadata": {},
   "source": [
    "## Basic List Methods\n",
    "\n",
    "If you are familiar with another programming language, you might start to draw parallels between arrays in another language and lists in Python. Lists in Python however, tend to be more flexible than arrays in other languages for a two good reasons: they have no fixed size (meaning we don't have to specify how big a list will be), and they have no fixed type constraint (like we've seen above).\n",
    "\n",
    "Let's go ahead and explore some more special methods for lists:"
   ]
  },
  {
   "cell_type": "code",
   "execution_count": 30,
   "id": "097c3491-6782-431c-99a5-c2c961251c42",
   "metadata": {},
   "outputs": [],
   "source": [
    "list1 = [1,2,3]"
   ]
  },
  {
   "cell_type": "markdown",
   "id": "f1ac84e2-bd91-4cf7-bf76-da69b6eecf71",
   "metadata": {},
   "source": [
    "Use append to permanentely add an item to the end of a list:"
   ]
  },
  {
   "cell_type": "code",
   "execution_count": 31,
   "id": "b7594532-42dc-48b6-bf52-ef59ec0bf902",
   "metadata": {},
   "outputs": [],
   "source": [
    "# Append\n",
    "list1.append('Ganesh')"
   ]
  },
  {
   "cell_type": "code",
   "execution_count": 32,
   "id": "4ed21141-ffe3-4c33-8cd3-10cb9a0814b4",
   "metadata": {},
   "outputs": [
    {
     "data": {
      "text/plain": [
       "[1, 2, 3, 'Ganesh']"
      ]
     },
     "execution_count": 32,
     "metadata": {},
     "output_type": "execute_result"
    }
   ],
   "source": [
    "# Show\n",
    "list1"
   ]
  },
  {
   "cell_type": "code",
   "execution_count": 33,
   "id": "bfb21a9a-0634-458d-861d-8df2cb1bda19",
   "metadata": {},
   "outputs": [
    {
     "data": {
      "text/plain": [
       "['new item', 12, 16.8, 9, 'one', 'two', 'three', 'i am new', 5]"
      ]
     },
     "execution_count": 33,
     "metadata": {},
     "output_type": "execute_result"
    }
   ],
   "source": [
    "['new item', 12, 16.8,9] + my_list"
   ]
  },
  {
   "cell_type": "code",
   "execution_count": 34,
   "id": "ee7ccf0b-6976-4fc9-b9d7-d3cd1939c02a",
   "metadata": {},
   "outputs": [
    {
     "data": {
      "text/plain": [
       "3"
      ]
     },
     "execution_count": 34,
     "metadata": {},
     "output_type": "execute_result"
    }
   ],
   "source": [
    "list1.index('Ganesh')"
   ]
  },
  {
   "cell_type": "markdown",
   "id": "299b3351-4e30-482c-a892-464d09e27905",
   "metadata": {},
   "source": [
    "## Nesting Lists\n",
    "A great feature of of Python data structures is that they support *nesting*. This means we can have data structures within data structures. For example: A list inside a list.\n",
    "\n",
    "Let's see how this works!"
   ]
  },
  {
   "cell_type": "code",
   "execution_count": 35,
   "id": "7b6f8aab-57cf-411e-b59e-305a8053c856",
   "metadata": {},
   "outputs": [],
   "source": [
    "# let's make three lists\n",
    "lst_1 = [1,2,3]\n",
    "lst_2 = [4,5,6]\n",
    "lst_3 = [7,8,9]\n",
    "\n",
    "# Make a list of lists to form a matrix\n",
    "matrix = [lst_1, lst_2, lst_3]"
   ]
  },
  {
   "cell_type": "code",
   "execution_count": 36,
   "id": "b9f6e7d6-251f-4006-bc53-71d7a60cdb1c",
   "metadata": {},
   "outputs": [
    {
     "data": {
      "text/plain": [
       "[[1, 2, 3], [4, 5, 6], [7, 8, 9]]"
      ]
     },
     "execution_count": 36,
     "metadata": {},
     "output_type": "execute_result"
    }
   ],
   "source": [
    "#show\n",
    "matrix"
   ]
  },
  {
   "cell_type": "code",
   "execution_count": 37,
   "id": "3f9dcd4a-c43d-4ad4-88e0-b036d2942609",
   "metadata": {},
   "outputs": [
    {
     "data": {
      "text/plain": [
       "[1, 2, 3]"
      ]
     },
     "execution_count": 37,
     "metadata": {},
     "output_type": "execute_result"
    }
   ],
   "source": [
    "# Grab the first item in the matrix\n",
    "matrix[0]"
   ]
  },
  {
   "cell_type": "code",
   "execution_count": 38,
   "id": "d8a38173-ebb8-4d32-8a0b-5be76b9fb055",
   "metadata": {},
   "outputs": [
    {
     "data": {
      "text/plain": [
       "2"
      ]
     },
     "execution_count": 38,
     "metadata": {},
     "output_type": "execute_result"
    }
   ],
   "source": [
    "# Grab the second element of first matrix object\n",
    "matrix[0][1]"
   ]
  },
  {
   "cell_type": "markdown",
   "id": "f80cc3ec-5a18-45b0-8f38-7d5ad8984ca0",
   "metadata": {},
   "source": [
    "We can again use indexing to grab elements, but now there are two levels for the index. The items in the matrix object, and then the items inside that list!"
   ]
  },
  {
   "cell_type": "code",
   "execution_count": 59,
   "id": "bddbb388-4ae2-4bb7-b0a7-4dd5ff96606d",
   "metadata": {},
   "outputs": [],
   "source": [
    "ganu = ['ganu', 'manu', 1, 8, 'nanu']"
   ]
  },
  {
   "cell_type": "code",
   "execution_count": 40,
   "id": "b945e9b6-e020-4c77-817a-0c33a04fd2c2",
   "metadata": {},
   "outputs": [
    {
     "data": {
      "text/plain": [
       "['ganu', 'manu', 1, 8, 'nanu']"
      ]
     },
     "execution_count": 40,
     "metadata": {},
     "output_type": "execute_result"
    }
   ],
   "source": [
    "ganu\n"
   ]
  },
  {
   "cell_type": "code",
   "execution_count": 41,
   "id": "517a56fe-22bc-4ebc-af33-a0255d58bf6d",
   "metadata": {},
   "outputs": [
    {
     "data": {
      "text/plain": [
       "'manu'"
      ]
     },
     "execution_count": 41,
     "metadata": {},
     "output_type": "execute_result"
    }
   ],
   "source": [
    "ganu[1]"
   ]
  },
  {
   "cell_type": "code",
   "execution_count": 42,
   "id": "66e24e73-f2fd-4e97-b327-41d68d42e57c",
   "metadata": {},
   "outputs": [
    {
     "ename": "TypeError",
     "evalue": "'builtin_function_or_method' object is not subscriptable",
     "output_type": "error",
     "traceback": [
      "\u001b[1;31m---------------------------------------------------------------------------\u001b[0m",
      "\u001b[1;31mTypeError\u001b[0m                                 Traceback (most recent call last)",
      "\u001b[1;32m<ipython-input-42-5f250c402869>\u001b[0m in \u001b[0;36m<module>\u001b[1;34m\u001b[0m\n\u001b[1;32m----> 1\u001b[1;33m \u001b[0mganu\u001b[0m\u001b[1;33m.\u001b[0m\u001b[0mindex\u001b[0m\u001b[1;33m[\u001b[0m\u001b[1;34m'manu'\u001b[0m\u001b[1;33m]\u001b[0m\u001b[1;33m\u001b[0m\u001b[1;33m\u001b[0m\u001b[0m\n\u001b[0m",
      "\u001b[1;31mTypeError\u001b[0m: 'builtin_function_or_method' object is not subscriptable"
     ]
    }
   ],
   "source": [
    "ganu.index['manu']"
   ]
  },
  {
   "cell_type": "code",
   "execution_count": 44,
   "id": "1627f76f-8f2f-4270-a6e4-21b7173e3311",
   "metadata": {},
   "outputs": [
    {
     "data": {
      "text/plain": [
       "1"
      ]
     },
     "execution_count": 44,
     "metadata": {},
     "output_type": "execute_result"
    }
   ],
   "source": [
    "ganu.index('manu')"
   ]
  },
  {
   "cell_type": "code",
   "execution_count": 45,
   "id": "aa68616a-83b5-44d6-b48c-856a7ffa106a",
   "metadata": {},
   "outputs": [],
   "source": [
    "ganu.insert(1, 'Gavali')"
   ]
  },
  {
   "cell_type": "code",
   "execution_count": 46,
   "id": "353e0181-9f5c-4f88-9ac9-2c006550e88f",
   "metadata": {},
   "outputs": [
    {
     "data": {
      "text/plain": [
       "['ganu', 'Gavali', 'manu', 1, 8, 'nanu']"
      ]
     },
     "execution_count": 46,
     "metadata": {},
     "output_type": "execute_result"
    }
   ],
   "source": [
    "ganu"
   ]
  },
  {
   "cell_type": "code",
   "execution_count": 47,
   "id": "01307af8-672c-4482-89dd-1263d3cc91d6",
   "metadata": {},
   "outputs": [],
   "source": [
    "ganu.remove(\"manu\")"
   ]
  },
  {
   "cell_type": "code",
   "execution_count": 48,
   "id": "99b65999-c155-4104-8484-fc64b49e2c9f",
   "metadata": {},
   "outputs": [
    {
     "data": {
      "text/plain": [
       "['ganu', 'Gavali', 1, 8, 'nanu']"
      ]
     },
     "execution_count": 48,
     "metadata": {},
     "output_type": "execute_result"
    }
   ],
   "source": [
    "ganu\n"
   ]
  },
  {
   "cell_type": "code",
   "execution_count": 49,
   "id": "72ecc807-5fc2-4f4d-a352-82393b5767d9",
   "metadata": {},
   "outputs": [],
   "source": [
    "ganu[3]=\"bhai\""
   ]
  },
  {
   "cell_type": "code",
   "execution_count": 50,
   "id": "be37720f-dd22-4a39-9f7a-be3f3a623944",
   "metadata": {},
   "outputs": [
    {
     "data": {
      "text/plain": [
       "['ganu', 'Gavali', 1, 'bhai', 'nanu']"
      ]
     },
     "execution_count": 50,
     "metadata": {},
     "output_type": "execute_result"
    }
   ],
   "source": [
    "ganu"
   ]
  },
  {
   "cell_type": "code",
   "execution_count": 51,
   "id": "735e980f-4d3f-484c-b5b0-9d6ab70a7f09",
   "metadata": {},
   "outputs": [],
   "source": [
    "ganu.append(\"baba\")"
   ]
  },
  {
   "cell_type": "code",
   "execution_count": 52,
   "id": "10cc54db-d125-4c04-9106-e81ad38edf80",
   "metadata": {},
   "outputs": [
    {
     "data": {
      "text/plain": [
       "['ganu', 'Gavali', 1, 'bhai', 'nanu', 'baba']"
      ]
     },
     "execution_count": 52,
     "metadata": {},
     "output_type": "execute_result"
    }
   ],
   "source": [
    "ganu"
   ]
  },
  {
   "cell_type": "code",
   "execution_count": 60,
   "id": "28aafb65-da33-4049-81aa-acc6585ec3fb",
   "metadata": {},
   "outputs": [],
   "source": [
    "ganu[4:5]=['dada', 'bhava']"
   ]
  },
  {
   "cell_type": "code",
   "execution_count": 61,
   "id": "1a33264e-16ef-4dab-9fe4-72552460b88d",
   "metadata": {},
   "outputs": [
    {
     "data": {
      "text/plain": [
       "['ganu', 'manu', 1, 8, 'dada', 'bhava']"
      ]
     },
     "execution_count": 61,
     "metadata": {},
     "output_type": "execute_result"
    }
   ],
   "source": [
    "ganu"
   ]
  },
  {
   "cell_type": "code",
   "execution_count": 62,
   "id": "2431b262-9f6a-4166-b719-10c3a552eab4",
   "metadata": {},
   "outputs": [],
   "source": [
    "batman = [1,2,3,4,5]"
   ]
  },
  {
   "cell_type": "code",
   "execution_count": 63,
   "id": "71bbf805-a895-4662-a540-ce67e5eb61f9",
   "metadata": {},
   "outputs": [
    {
     "data": {
      "text/plain": [
       "[1, 2, 3, 4, 5]"
      ]
     },
     "execution_count": 63,
     "metadata": {},
     "output_type": "execute_result"
    }
   ],
   "source": [
    "batman\n"
   ]
  },
  {
   "cell_type": "code",
   "execution_count": 64,
   "id": "01895a81-a5d1-4927-97cd-432ba570e0fd",
   "metadata": {},
   "outputs": [],
   "source": [
    "batman[1:3]=[9,8]"
   ]
  },
  {
   "cell_type": "code",
   "execution_count": 65,
   "id": "4270506d-3a39-40a1-9d06-a73023c92dd2",
   "metadata": {},
   "outputs": [
    {
     "data": {
      "text/plain": [
       "[1, 9, 8, 4, 5]"
      ]
     },
     "execution_count": 65,
     "metadata": {},
     "output_type": "execute_result"
    }
   ],
   "source": [
    "batman"
   ]
  },
  {
   "cell_type": "code",
   "execution_count": null,
   "id": "bee686e3-1204-4b97-b5f5-ccb44a80c321",
   "metadata": {},
   "outputs": [],
   "source": []
  }
 ],
 "metadata": {
  "kernelspec": {
   "display_name": "Python 3",
   "language": "python",
   "name": "python3"
  },
  "language_info": {
   "codemirror_mode": {
    "name": "ipython",
    "version": 3
   },
   "file_extension": ".py",
   "mimetype": "text/x-python",
   "name": "python",
   "nbconvert_exporter": "python",
   "pygments_lexer": "ipython3",
   "version": "3.8.8"
  }
 },
 "nbformat": 4,
 "nbformat_minor": 5
}
