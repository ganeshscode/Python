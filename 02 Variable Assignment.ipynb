{
 "cells": [
  {
   "cell_type": "markdown",
   "id": "fa5bc8e9-069e-48a5-a97f-61be3a58ca2c",
   "metadata": {},
   "source": [
    "# Variable Assignment\n",
    "\n",
    "## Rules for variable names\n",
    "* names can not start with a number\n",
    "* names can not contain spaces, use _ intead\n",
    "* names can not contain any of these symbols:\n",
    "\n",
    "      :'\",<>/?|\\!@#%^&*~-+\n",
    "       \n",
    "* it's considered best practice ([PEP8](https://www.python.org/dev/peps/pep-0008/#function-and-variable-names)) that names are lowercase with underscores\n",
    "* avoid using Python built-in keywords like `list` and `str`\n",
    "* avoid using the single characters `l` (lowercase letter el), `O` (uppercase letter oh) and `I` (uppercase letter eye) as they can be confused with `1` and `0`"
   ]
  },
  {
   "cell_type": "markdown",
   "id": "a4101628-5264-45d7-a1fe-44811d08a214",
   "metadata": {},
   "source": [
    "## Dynamic Typing\n",
    "\n",
    "Python uses *dynamic typing*, meaning you can reassign variables to different data types. This makes Python very flexible in assigning data types; it differs from other languages that are *statically typed*."
   ]
  },
  {
   "cell_type": "code",
   "execution_count": 1,
   "id": "f9130f05-55d3-4259-aa4e-c9f590f45bd8",
   "metadata": {},
   "outputs": [],
   "source": [
    "my_dog = 2"
   ]
  },
  {
   "cell_type": "code",
   "execution_count": 2,
   "id": "ca6d2fbb-0153-4f0c-b729-31d320e0a0ae",
   "metadata": {},
   "outputs": [
    {
     "data": {
      "text/plain": [
       "2"
      ]
     },
     "execution_count": 2,
     "metadata": {},
     "output_type": "execute_result"
    }
   ],
   "source": [
    "my_dog"
   ]
  },
  {
   "cell_type": "code",
   "execution_count": 3,
   "id": "72bd4ba4-d841-437b-b55f-8d9cf6c0f72b",
   "metadata": {},
   "outputs": [],
   "source": [
    "my_dog = ['sameer', 'matheus']"
   ]
  },
  {
   "cell_type": "code",
   "execution_count": 4,
   "id": "eda66c3f-1d93-484e-95a4-6e5a3f5617e6",
   "metadata": {},
   "outputs": [
    {
     "data": {
      "text/plain": [
       "['sameer', 'matheus']"
      ]
     },
     "execution_count": 4,
     "metadata": {},
     "output_type": "execute_result"
    }
   ],
   "source": [
    "my_dog"
   ]
  },
  {
   "cell_type": "markdown",
   "id": "5fd1f36e-8b5c-4ebb-b19e-2778b3d64d88",
   "metadata": {},
   "source": [
    "### Pros and Cons of Dynamic Typing\n",
    "#### Pros of Dynamic Typing\n",
    "* very easy to work with\n",
    "* faster development time\n",
    "\n",
    "#### Cons of Dynamic Typing\n",
    "* may result in unexpected bugs!\n",
    "* you need to be aware of `type()`"
   ]
  },
  {
   "cell_type": "markdown",
   "id": "78060952-317b-459d-9419-74559c482c68",
   "metadata": {},
   "source": [
    "## Determining variable type with `type()`\n",
    "You can check what type of object is assigned to a variable using Python's built-in `type()` function. Common data types include:\n",
    "* **int** (for integer)\n",
    "* **float**\n",
    "* **str** (for string)\n",
    "* **list**\n",
    "* **tuple**\n",
    "* **dict** (for dictionary)\n",
    "* **set**\n",
    "* **bool** (for Boolean True/False)"
   ]
  },
  {
   "cell_type": "code",
   "execution_count": 5,
   "id": "c8d35228-da2a-498a-ae93-1a79912e9026",
   "metadata": {},
   "outputs": [
    {
     "data": {
      "text/plain": [
       "int"
      ]
     },
     "execution_count": 5,
     "metadata": {},
     "output_type": "execute_result"
    }
   ],
   "source": [
    "a = 2\n",
    "type(a)"
   ]
  },
  {
   "cell_type": "code",
   "execution_count": 6,
   "id": "445cc3cf-67d6-4fe2-887c-0722086a2454",
   "metadata": {},
   "outputs": [
    {
     "data": {
      "text/plain": [
       "float"
      ]
     },
     "execution_count": 6,
     "metadata": {},
     "output_type": "execute_result"
    }
   ],
   "source": [
    "a = 2.3\n",
    "type(a)"
   ]
  },
  {
   "cell_type": "code",
   "execution_count": 7,
   "id": "d8ad5bc5-ced9-4a16-a076-a40d248aa9bf",
   "metadata": {},
   "outputs": [
    {
     "data": {
      "text/plain": [
       "tuple"
      ]
     },
     "execution_count": 7,
     "metadata": {},
     "output_type": "execute_result"
    }
   ],
   "source": [
    "a = (1,2.4,4.9,5)\n",
    "type(a)"
   ]
  },
  {
   "cell_type": "code",
   "execution_count": 8,
   "id": "a0c4d072-f6ee-4876-8a83-37a10b3ced57",
   "metadata": {},
   "outputs": [
    {
     "data": {
      "text/plain": [
       "list"
      ]
     },
     "execution_count": 8,
     "metadata": {},
     "output_type": "execute_result"
    }
   ],
   "source": [
    "a = [1,2.5,4.4,6]\n",
    "type(a)"
   ]
  },
  {
   "cell_type": "markdown",
   "id": "b377ab8c-f722-4a74-bad1-51f5028dbb6a",
   "metadata": {},
   "source": [
    "Integer in '()' shows tupple.\n",
    "Integer in '[]' shows list."
   ]
  },
  {
   "cell_type": "markdown",
   "id": "b055f331-893e-4ca3-b038-ae9311ce5c6c",
   "metadata": {},
   "source": [
    "### Simple Exercise"
   ]
  },
  {
   "cell_type": "markdown",
   "id": "287a111c-21e5-47a9-95d2-bd1fd4e64447",
   "metadata": {},
   "source": [
    "This shows how variable make calculation "
   ]
  },
  {
   "cell_type": "code",
   "execution_count": 9,
   "id": "fd28fb90-f2c2-40fa-8430-9d493a51c589",
   "metadata": {},
   "outputs": [],
   "source": [
    "income = 100\n",
    "rate = 0.1\n",
    "taxes = income * rate"
   ]
  },
  {
   "cell_type": "code",
   "execution_count": 10,
   "id": "29dcb4f5-73c6-45ea-a42c-9140afe9677d",
   "metadata": {},
   "outputs": [
    {
     "data": {
      "text/plain": [
       "10.0"
      ]
     },
     "execution_count": 10,
     "metadata": {},
     "output_type": "execute_result"
    }
   ],
   "source": [
    "taxes"
   ]
  },
  {
   "cell_type": "code",
   "execution_count": 11,
   "id": "417ca7d5-4059-4f8f-8161-32096754b8f4",
   "metadata": {},
   "outputs": [
    {
     "data": {
      "text/plain": [
       "float"
      ]
     },
     "execution_count": 11,
     "metadata": {},
     "output_type": "execute_result"
    }
   ],
   "source": [
    "type(taxes)"
   ]
  },
  {
   "cell_type": "markdown",
   "id": "8bdb0b87-beeb-42c6-94fe-63cdd9579922",
   "metadata": {},
   "source": [
    "Great! You should noww understand the basic of variabble assignment and reassignment in Python."
   ]
  },
  {
   "cell_type": "markdown",
   "id": "ac49f772-c6ef-41d4-943d-6e0ee0cf15b3",
   "metadata": {},
   "source": [
    "Up next, we'll learn about string."
   ]
  }
 ],
 "metadata": {
  "kernelspec": {
   "display_name": "Python 3",
   "language": "python",
   "name": "python3"
  },
  "language_info": {
   "codemirror_mode": {
    "name": "ipython",
    "version": 3
   },
   "file_extension": ".py",
   "mimetype": "text/x-python",
   "name": "python",
   "nbconvert_exporter": "python",
   "pygments_lexer": "ipython3",
   "version": "3.8.8"
  }
 },
 "nbformat": 4,
 "nbformat_minor": 5
}
